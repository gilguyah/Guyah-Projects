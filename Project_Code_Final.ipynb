{
  "nbformat": 4,
  "nbformat_minor": 0,
  "metadata": {
    "colab": {
      "name": "Project_Code_Final.ipynb",
      "provenance": [],
      "collapsed_sections": []
    },
    "kernelspec": {
      "display_name": "Python 3",
      "language": "python",
      "name": "python3"
    },
    "language_info": {
      "codemirror_mode": {
        "name": "ipython",
        "version": 3
      },
      "file_extension": ".py",
      "mimetype": "text/x-python",
      "name": "python",
      "nbconvert_exporter": "python",
      "pygments_lexer": "ipython3",
      "version": "3.7.7"
    }
  },
  "cells": [
    {
      "cell_type": "markdown",
      "metadata": {
        "id": "5Z_m9AHk1Ims"
      },
      "source": [
        "# Load Packages"
      ]
    },
    {
      "cell_type": "code",
      "metadata": {
        "colab": {
          "base_uri": "https://localhost:8080/"
        },
        "id": "w25IFB68xZcl",
        "outputId": "0603305a-ff26-47a8-8351-114a32821618"
      },
      "source": [
        "import matplotlib.pyplot as plt\n",
        "import numpy as np\n",
        "import pandas as pd\n",
        "import re\n",
        "import seaborn as sns\n",
        "import string\n",
        "import tweepy as tw\n",
        "\n",
        "# nltk packages\n",
        "import nltk\n",
        "from nltk.corpus import stopwords\n",
        "from nltk.stem.wordnet import WordNetLemmatizer\n",
        "from nltk.tokenize import sent_tokenize, word_tokenize\n",
        "from nltk.stem import WordNetLemmatizer\n",
        "\n",
        "# Sklearn packages\n",
        "from sklearn.feature_extraction.text import CountVectorizer, TfidfVectorizer\n",
        "from sklearn.metrics import confusion_matrix, classification_report, accuracy_score, f1_score\n",
        "from sklearn.model_selection import train_test_split, cross_val_score\n",
        "from sklearn.naive_bayes import MultinomialNB\n",
        "from sklearn.pipeline import Pipeline\n",
        "from sklearn.svm import SVC\n",
        "from sklearn.linear_model import LogisticRegression\n",
        "from sklearn.svm import SVC\n",
        "from sklearn.ensemble import RandomForestClassifier\n",
        "import numpy as np\n",
        "from sklearn.datasets import load_digits\n",
        "\n",
        "from google.colab import drive\n",
        "nltk.download('punkt')\n",
        "nltk.download('wordnet')\n"
      ],
      "execution_count": 2,
      "outputs": [
        {
          "output_type": "stream",
          "text": [
            "[nltk_data] Downloading package punkt to /root/nltk_data...\n",
            "[nltk_data]   Unzipping tokenizers/punkt.zip.\n",
            "[nltk_data] Downloading package wordnet to /root/nltk_data...\n",
            "[nltk_data]   Unzipping corpora/wordnet.zip.\n"
          ],
          "name": "stdout"
        },
        {
          "output_type": "execute_result",
          "data": {
            "text/plain": [
              "True"
            ]
          },
          "metadata": {
            "tags": []
          },
          "execution_count": 2
        }
      ]
    },
    {
      "cell_type": "markdown",
      "metadata": {
        "id": "EqSlTxCmFWqi"
      },
      "source": [
        "## Extract Twitter Data using Tweepy API"
      ]
    },
    {
      "cell_type": "code",
      "metadata": {
        "id": "1dr0SN75FWqi",
        "colab": {
          "base_uri": "https://localhost:8080/",
          "height": 120
        },
        "outputId": "f89a1cc2-fbd6-496f-f0ef-ff4cc5271c63"
      },
      "source": [
        "'''\n",
        "#Instantiate tweepy API --- API keys have been removed \n",
        "consumer_key= 'TKlbEydyWnvDXXXXXXXXX'\n",
        "consumer_secret= 'AsmEHtBqdsOw3vWXiqfXXXXXXXXX'\n",
        "access_token= '44821419-FvKUyjDgtQA2KzWNqjhzXXXXXXXXXXX'\n",
        "access_token_secret= 'Bdj79RfElHp5CQm3CirblXXXXXXXXXXXXXXXX'\n",
        "\n",
        "auth = tw.OAuthHandler(consumer_key, consumer_secret)\n",
        "auth.set_access_token(access_token, access_token_secret)\n",
        "api = tw.API(auth, wait_on_rate_limit=True)\n",
        "\n",
        "# Define the search term and the date_since date as variables\n",
        "search_words = \"#news\"\n",
        "'''"
      ],
      "execution_count": null,
      "outputs": [
        {
          "output_type": "execute_result",
          "data": {
            "application/vnd.google.colaboratory.intrinsic+json": {
              "type": "string"
            },
            "text/plain": [
              "'\\n#Instantiate tweepy API --- API keys have been removed \\nconsumer_key= \\'TKlbEydyWnvDXXXXXXXXX\\'\\nconsumer_secret= \\'AsmEHtBqdsOw3vWXiqfXXXXXXXXX\\'\\naccess_token= \\'44821419-FvKUyjDgtQA2KzWNqjhzXXXXXXXXXXX\\'\\naccess_token_secret= \\'Bdj79RfElHp5CQm3CirblXXXXXXXXXXXXXXXX\\'\\n\\nauth = tw.OAuthHandler(consumer_key, consumer_secret)\\nauth.set_access_token(access_token, access_token_secret)\\napi = tw.API(auth, wait_on_rate_limit=True)\\n\\n# Define the search term and the date_since date as variables\\nsearch_words = \"#news\"\\n'"
            ]
          },
          "metadata": {
            "tags": []
          },
          "execution_count": 247
        }
      ]
    },
    {
      "cell_type": "code",
      "metadata": {
        "id": "yBIK4XtoFWqj"
      },
      "source": [
        "''''\n",
        "# Collect tweets\n",
        "tweets = tw.Cursor(api.search,\n",
        "              q=search_words,\n",
        "              lang=\"en\",\n",
        "              tweet_mode = \"extended\",  \n",
        "              include_rts=False,).items(3000) "
      ],
      "execution_count": null,
      "outputs": []
    },
    {
      "cell_type": "code",
      "metadata": {
        "id": "kNhGEUehFWqj"
      },
      "source": [
        "''''\n",
        "#save tweets\n",
        "searched_tweets = [status._json for status in tweets]\n",
        "json_strings = [json.dumps(json_obj) for json_obj in searched_tweets]  \n"
      ],
      "execution_count": null,
      "outputs": []
    },
    {
      "cell_type": "code",
      "metadata": {
        "id": "Obn5nrUdFWqj"
      },
      "source": [
        "''''\n",
        "# Write to json file\n",
        "with open(\"news.json\", \"w\", encoding='utf8') as f: \n",
        "    f.write('[')\n",
        "    for i,x in enumerate(json_strings):\n",
        "        f.write(x)\n",
        "        if i != len(json_strings) - 1:\n",
        "            f.write(\",\")\n",
        "        \n",
        "    f.write(']')"
      ],
      "execution_count": null,
      "outputs": []
    },
    {
      "cell_type": "code",
      "metadata": {
        "id": "uMn2fNYaFWqj"
      },
      "source": [
        "\n",
        "# Open json file 'read'\n",
        "#with open('news.json', 'r') as tweetfile:\n",
        " # newstweets = json.loads(tweetfile.read())"
      ],
      "execution_count": null,
      "outputs": []
    },
    {
      "cell_type": "code",
      "metadata": {
        "id": "QhijMLvBFWqk"
      },
      "source": [
        "# Save tweets into pd dataframe\n",
        "#news_tweets = pd.read_json('news.json')\n",
        "#print(news_tweets.head())"
      ],
      "execution_count": null,
      "outputs": []
    },
    {
      "cell_type": "code",
      "metadata": {
        "id": "uLI7ER_EFWqk"
      },
      "source": [
        "# Save to csv file to distribute to the rest of the groupmembers\n",
        "#news_tweets.to_csv('news_tweet.csv', index = False)\n"
      ],
      "execution_count": null,
      "outputs": []
    },
    {
      "cell_type": "code",
      "metadata": {
        "colab": {
          "resources": {
            "http://localhost:8080/nbextensions/google.colab/files.js": {
              "data": "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",
              "ok": true,
              "headers": [
                [
                  "content-type",
                  "application/javascript"
                ]
              ],
              "status": 200,
              "status_text": ""
            }
          },
          "base_uri": "https://localhost:8080/",
          "height": 174
        },
        "id": "TIViH7IRpqhN",
        "outputId": "0d31fd50-979d-4652-a7d5-4310cd93732a"
      },
      "source": [
        "from google.colab import files\r\n",
        "uploaded = files.upload()"
      ],
      "execution_count": 1,
      "outputs": [
        {
          "output_type": "display_data",
          "data": {
            "text/html": [
              "\n",
              "     <input type=\"file\" id=\"files-898e59cb-ea04-446b-a14a-905b6271c855\" name=\"files[]\" multiple disabled\n",
              "        style=\"border:none\" />\n",
              "     <output id=\"result-898e59cb-ea04-446b-a14a-905b6271c855\">\n",
              "      Upload widget is only available when the cell has been executed in the\n",
              "      current browser session. Please rerun this cell to enable.\n",
              "      </output>\n",
              "      <script src=\"/nbextensions/google.colab/files.js\"></script> "
            ],
            "text/plain": [
              "<IPython.core.display.HTML object>"
            ]
          },
          "metadata": {
            "tags": []
          }
        },
        {
          "output_type": "stream",
          "text": [
            "Saving news_tweets.csv to news_tweets.csv\n",
            "Saving reddit_comments_sample.csv to reddit_comments_sample.csv\n",
            "Saving sarcasm.csv to sarcasm.csv\n",
            "Saving sarcastic_tweets.csv to sarcastic_tweets.csv\n"
          ],
          "name": "stdout"
        }
      ]
    },
    {
      "cell_type": "markdown",
      "metadata": {
        "id": "Fg_ojV4I1FMV"
      },
      "source": [
        "# Read Files"
      ]
    },
    {
      "cell_type": "code",
      "metadata": {
        "id": "W0_LzsfLxTHp"
      },
      "source": [
        "# Read in files\n",
        "#file_path = \"/content/sample_data/\"\n",
        "reddit_comments_file = \"reddit_comments_sample.csv\"\n",
        "sarcastic_twitter_api_file = \"sarcastic_tweets.csv\"\n",
        "news_twitter_file = \"news_tweets.csv\"\n",
        "sarcastic_twitter_narcis_file = \"sarcasm.csv\""
      ],
      "execution_count": 48,
      "outputs": []
    },
    {
      "cell_type": "code",
      "metadata": {
        "colab": {
          "base_uri": "https://localhost:8080/",
          "height": 296
        },
        "id": "19lFMHi6xjxf",
        "outputId": "646c3a7f-2e9d-4903-8509-a5b55ed6d318"
      },
      "source": [
        "# Load Reddit Comments\n",
        "reddit_comments = pd.read_csv(reddit_comments_file).sample(2000, random_state=50)\n",
        "reddit_comments.head(5)"
      ],
      "execution_count": 49,
      "outputs": [
        {
          "output_type": "execute_result",
          "data": {
            "text/html": [
              "<div>\n",
              "<style scoped>\n",
              "    .dataframe tbody tr th:only-of-type {\n",
              "        vertical-align: middle;\n",
              "    }\n",
              "\n",
              "    .dataframe tbody tr th {\n",
              "        vertical-align: top;\n",
              "    }\n",
              "\n",
              "    .dataframe thead th {\n",
              "        text-align: right;\n",
              "    }\n",
              "</style>\n",
              "<table border=\"1\" class=\"dataframe\">\n",
              "  <thead>\n",
              "    <tr style=\"text-align: right;\">\n",
              "      <th></th>\n",
              "      <th>Unnamed: 0</th>\n",
              "      <th>label</th>\n",
              "      <th>comment</th>\n",
              "      <th>author</th>\n",
              "      <th>subreddit</th>\n",
              "      <th>score</th>\n",
              "      <th>ups</th>\n",
              "      <th>downs</th>\n",
              "      <th>date</th>\n",
              "      <th>created_utc</th>\n",
              "      <th>parent_comment</th>\n",
              "    </tr>\n",
              "  </thead>\n",
              "  <tbody>\n",
              "    <tr>\n",
              "      <th>565</th>\n",
              "      <td>417747</td>\n",
              "      <td>0</td>\n",
              "      <td>Jet fuel can't melt wood beems.</td>\n",
              "      <td>thekidslaughter</td>\n",
              "      <td>AskReddit</td>\n",
              "      <td>2</td>\n",
              "      <td>2</td>\n",
              "      <td>0</td>\n",
              "      <td>2016-02</td>\n",
              "      <td>2016-02-16 16:44:37</td>\n",
              "      <td>Wood as a structural building material. It bur...</td>\n",
              "    </tr>\n",
              "    <tr>\n",
              "      <th>1223</th>\n",
              "      <td>840209</td>\n",
              "      <td>1</td>\n",
              "      <td>Rex Ryan is guru for young QBs</td>\n",
              "      <td>tootie</td>\n",
              "      <td>nfl</td>\n",
              "      <td>0</td>\n",
              "      <td>0</td>\n",
              "      <td>0</td>\n",
              "      <td>2014-12</td>\n",
              "      <td>2014-12-29 21:11:01</td>\n",
              "      <td>Is Oakland all that far from being decent, tho...</td>\n",
              "    </tr>\n",
              "    <tr>\n",
              "      <th>1581</th>\n",
              "      <td>592204</td>\n",
              "      <td>1</td>\n",
              "      <td>So it is pretty bad ;p</td>\n",
              "      <td>LaGGwagen</td>\n",
              "      <td>ShitWehraboosSay</td>\n",
              "      <td>1</td>\n",
              "      <td>1</td>\n",
              "      <td>0</td>\n",
              "      <td>2015-12</td>\n",
              "      <td>2015-12-29 01:17:31</td>\n",
              "      <td>It's flight performance is that of an F-35 unt...</td>\n",
              "    </tr>\n",
              "    <tr>\n",
              "      <th>959</th>\n",
              "      <td>740100</td>\n",
              "      <td>1</td>\n",
              "      <td>body positivity cmon guys shes so beautiful ri...</td>\n",
              "      <td>batfolx</td>\n",
              "      <td>FiftyFifty</td>\n",
              "      <td>2</td>\n",
              "      <td>2</td>\n",
              "      <td>0</td>\n",
              "      <td>2015-05</td>\n",
              "      <td>2015-05-30 14:28:24</td>\n",
              "      <td>Rosie Macc stunt double for Emlia Clarke AKA D...</td>\n",
              "    </tr>\n",
              "    <tr>\n",
              "      <th>1974</th>\n",
              "      <td>605110</td>\n",
              "      <td>1</td>\n",
              "      <td>Does he have cold hands and a distended gut?</td>\n",
              "      <td>FlameSpartan</td>\n",
              "      <td>fatlogic</td>\n",
              "      <td>1</td>\n",
              "      <td>1</td>\n",
              "      <td>0</td>\n",
              "      <td>2015-07</td>\n",
              "      <td>2015-07-15 19:21:39</td>\n",
              "      <td>Lol. My friends on the warrior diet and eats s...</td>\n",
              "    </tr>\n",
              "  </tbody>\n",
              "</table>\n",
              "</div>"
            ],
            "text/plain": [
              "      Unnamed: 0  ...                                     parent_comment\n",
              "565       417747  ...  Wood as a structural building material. It bur...\n",
              "1223      840209  ...  Is Oakland all that far from being decent, tho...\n",
              "1581      592204  ...  It's flight performance is that of an F-35 unt...\n",
              "959       740100  ...  Rosie Macc stunt double for Emlia Clarke AKA D...\n",
              "1974      605110  ...  Lol. My friends on the warrior diet and eats s...\n",
              "\n",
              "[5 rows x 11 columns]"
            ]
          },
          "metadata": {
            "tags": []
          },
          "execution_count": 49
        }
      ]
    },
    {
      "cell_type": "code",
      "metadata": {
        "colab": {
          "base_uri": "https://localhost:8080/",
          "height": 467
        },
        "id": "8LDkvDxy0mcM",
        "outputId": "e73ac303-4aed-43a0-f6e9-07f196952f45"
      },
      "source": [
        "# Load Sarcastic Tweets\n",
        "sarcastic_tweets = pd.read_csv(sarcastic_twitter_api_file).sample(1000, random_state=60)\n",
        "sarcastic_tweets['label'] = 1 \n",
        "sarcastic_tweets.head(5)"
      ],
      "execution_count": 50,
      "outputs": [
        {
          "output_type": "execute_result",
          "data": {
            "text/html": [
              "<div>\n",
              "<style scoped>\n",
              "    .dataframe tbody tr th:only-of-type {\n",
              "        vertical-align: middle;\n",
              "    }\n",
              "\n",
              "    .dataframe tbody tr th {\n",
              "        vertical-align: top;\n",
              "    }\n",
              "\n",
              "    .dataframe thead th {\n",
              "        text-align: right;\n",
              "    }\n",
              "</style>\n",
              "<table border=\"1\" class=\"dataframe\">\n",
              "  <thead>\n",
              "    <tr style=\"text-align: right;\">\n",
              "      <th></th>\n",
              "      <th>created_at</th>\n",
              "      <th>id_str</th>\n",
              "      <th>full_text</th>\n",
              "      <th>truncated</th>\n",
              "      <th>display_text_range</th>\n",
              "      <th>entities</th>\n",
              "      <th>metadata</th>\n",
              "      <th>in_reply_to_status_id</th>\n",
              "      <th>in_reply_to_status_id_str</th>\n",
              "      <th>in_reply_to_user_id</th>\n",
              "      <th>in_reply_to_user_id_str</th>\n",
              "      <th>in_reply_to_screen_name</th>\n",
              "      <th>user</th>\n",
              "      <th>geo</th>\n",
              "      <th>coordinates</th>\n",
              "      <th>place</th>\n",
              "      <th>is_quote_status</th>\n",
              "      <th>retweet_count</th>\n",
              "      <th>favorite_count</th>\n",
              "      <th>favorited</th>\n",
              "      <th>retweeted</th>\n",
              "      <th>lang</th>\n",
              "      <th>label</th>\n",
              "    </tr>\n",
              "  </thead>\n",
              "  <tbody>\n",
              "    <tr>\n",
              "      <th>2787</th>\n",
              "      <td>2020-11-17 20:55:31+00:00</td>\n",
              "      <td>1.328800e+18</td>\n",
              "      <td>LMFAO 2600 uncounted votes found!!! 800 go to ...</td>\n",
              "      <td>False</td>\n",
              "      <td>[0, 228]</td>\n",
              "      <td>{'hashtags': [{'text': 'SnortLaugh', 'indices'...</td>\n",
              "      <td>{'iso_language_code': 'en', 'result_type': 're...</td>\n",
              "      <td>NaN</td>\n",
              "      <td>NaN</td>\n",
              "      <td>NaN</td>\n",
              "      <td>NaN</td>\n",
              "      <td>NaN</td>\n",
              "      <td>{'id': 1038464880888573952, 'id_str': '1038464...</td>\n",
              "      <td>NaN</td>\n",
              "      <td>NaN</td>\n",
              "      <td>NaN</td>\n",
              "      <td>False</td>\n",
              "      <td>0</td>\n",
              "      <td>1</td>\n",
              "      <td>False</td>\n",
              "      <td>False</td>\n",
              "      <td>en</td>\n",
              "      <td>1</td>\n",
              "    </tr>\n",
              "    <tr>\n",
              "      <th>2798</th>\n",
              "      <td>2020-11-17 20:15:56+00:00</td>\n",
              "      <td>1.328790e+18</td>\n",
              "      <td>The Upside of COVID......#silverlinings #sarca...</td>\n",
              "      <td>False</td>\n",
              "      <td>[0, 48]</td>\n",
              "      <td>{'hashtags': [{'text': 'silverlinings', 'indic...</td>\n",
              "      <td>{'iso_language_code': 'en', 'result_type': 're...</td>\n",
              "      <td>NaN</td>\n",
              "      <td>NaN</td>\n",
              "      <td>NaN</td>\n",
              "      <td>NaN</td>\n",
              "      <td>NaN</td>\n",
              "      <td>{'id': 130680831, 'id_str': '130680831', 'name...</td>\n",
              "      <td>NaN</td>\n",
              "      <td>NaN</td>\n",
              "      <td>NaN</td>\n",
              "      <td>True</td>\n",
              "      <td>1</td>\n",
              "      <td>1</td>\n",
              "      <td>False</td>\n",
              "      <td>False</td>\n",
              "      <td>en</td>\n",
              "      <td>1</td>\n",
              "    </tr>\n",
              "    <tr>\n",
              "      <th>2527</th>\n",
              "      <td>2020-11-18 14:58:42+00:00</td>\n",
              "      <td>1.329080e+18</td>\n",
              "      <td>🎧 4 yr likes, 4 yr likes, \\ni'd steal 10,000 b...</td>\n",
              "      <td>False</td>\n",
              "      <td>[0, 61]</td>\n",
              "      <td>{'hashtags': [{'text': 'Sarcasm', 'indices': [...</td>\n",
              "      <td>{'iso_language_code': 'en', 'result_type': 're...</td>\n",
              "      <td>NaN</td>\n",
              "      <td>NaN</td>\n",
              "      <td>NaN</td>\n",
              "      <td>NaN</td>\n",
              "      <td>NaN</td>\n",
              "      <td>{'id': 407759517, 'id_str': '407759517', 'name...</td>\n",
              "      <td>NaN</td>\n",
              "      <td>NaN</td>\n",
              "      <td>NaN</td>\n",
              "      <td>False</td>\n",
              "      <td>0</td>\n",
              "      <td>2</td>\n",
              "      <td>False</td>\n",
              "      <td>False</td>\n",
              "      <td>en</td>\n",
              "      <td>1</td>\n",
              "    </tr>\n",
              "    <tr>\n",
              "      <th>1499</th>\n",
              "      <td>2020-11-21 23:33:30+00:00</td>\n",
              "      <td>1.330290e+18</td>\n",
              "      <td>Michigan #gop leaders stay at Trump hotel, mee...</td>\n",
              "      <td>False</td>\n",
              "      <td>[0, 167]</td>\n",
              "      <td>{'hashtags': [{'text': 'gop', 'indices': [9, 1...</td>\n",
              "      <td>{'iso_language_code': 'en', 'result_type': 're...</td>\n",
              "      <td>NaN</td>\n",
              "      <td>NaN</td>\n",
              "      <td>NaN</td>\n",
              "      <td>NaN</td>\n",
              "      <td>NaN</td>\n",
              "      <td>{'id': 17217175, 'id_str': '17217175', 'name':...</td>\n",
              "      <td>NaN</td>\n",
              "      <td>NaN</td>\n",
              "      <td>NaN</td>\n",
              "      <td>False</td>\n",
              "      <td>0</td>\n",
              "      <td>0</td>\n",
              "      <td>False</td>\n",
              "      <td>False</td>\n",
              "      <td>en</td>\n",
              "      <td>1</td>\n",
              "    </tr>\n",
              "    <tr>\n",
              "      <th>1689</th>\n",
              "      <td>2020-11-21 11:03:45+00:00</td>\n",
              "      <td>1.330100e+18</td>\n",
              "      <td>Some of you are just accidents; not planned.\\n...</td>\n",
              "      <td>False</td>\n",
              "      <td>[0, 98]</td>\n",
              "      <td>{'hashtags': [{'text': 'life', 'indices': [84,...</td>\n",
              "      <td>{'iso_language_code': 'en', 'result_type': 're...</td>\n",
              "      <td>NaN</td>\n",
              "      <td>NaN</td>\n",
              "      <td>NaN</td>\n",
              "      <td>NaN</td>\n",
              "      <td>NaN</td>\n",
              "      <td>{'id': 1107988407781916672, 'id_str': '1107988...</td>\n",
              "      <td>NaN</td>\n",
              "      <td>NaN</td>\n",
              "      <td>NaN</td>\n",
              "      <td>False</td>\n",
              "      <td>0</td>\n",
              "      <td>4</td>\n",
              "      <td>False</td>\n",
              "      <td>False</td>\n",
              "      <td>en</td>\n",
              "      <td>1</td>\n",
              "    </tr>\n",
              "  </tbody>\n",
              "</table>\n",
              "</div>"
            ],
            "text/plain": [
              "                     created_at        id_str  ... lang  label\n",
              "2787  2020-11-17 20:55:31+00:00  1.328800e+18  ...   en      1\n",
              "2798  2020-11-17 20:15:56+00:00  1.328790e+18  ...   en      1\n",
              "2527  2020-11-18 14:58:42+00:00  1.329080e+18  ...   en      1\n",
              "1499  2020-11-21 23:33:30+00:00  1.330290e+18  ...   en      1\n",
              "1689  2020-11-21 11:03:45+00:00  1.330100e+18  ...   en      1\n",
              "\n",
              "[5 rows x 23 columns]"
            ]
          },
          "metadata": {
            "tags": []
          },
          "execution_count": 50
        }
      ]
    },
    {
      "cell_type": "code",
      "metadata": {
        "id": "i50239pX0uta",
        "colab": {
          "base_uri": "https://localhost:8080/",
          "height": 417
        },
        "outputId": "765f13aa-d767-4117-96bb-720b07d21591"
      },
      "source": [
        "# # Load News Tweets\n",
        "news_tweets  = pd.read_csv(news_twitter_file).sample(1000, random_state=70)\n",
        "news_tweets['label'] = 0\n",
        "news_tweets.head(5)"
      ],
      "execution_count": 51,
      "outputs": [
        {
          "output_type": "execute_result",
          "data": {
            "text/html": [
              "<div>\n",
              "<style scoped>\n",
              "    .dataframe tbody tr th:only-of-type {\n",
              "        vertical-align: middle;\n",
              "    }\n",
              "\n",
              "    .dataframe tbody tr th {\n",
              "        vertical-align: top;\n",
              "    }\n",
              "\n",
              "    .dataframe thead th {\n",
              "        text-align: right;\n",
              "    }\n",
              "</style>\n",
              "<table border=\"1\" class=\"dataframe\">\n",
              "  <thead>\n",
              "    <tr style=\"text-align: right;\">\n",
              "      <th></th>\n",
              "      <th>created_at</th>\n",
              "      <th>id</th>\n",
              "      <th>id_str</th>\n",
              "      <th>full_text</th>\n",
              "      <th>truncated</th>\n",
              "      <th>display_text_range</th>\n",
              "      <th>entities</th>\n",
              "      <th>extended_entities</th>\n",
              "      <th>metadata</th>\n",
              "      <th>source</th>\n",
              "      <th>in_reply_to_status_id</th>\n",
              "      <th>in_reply_to_status_id_str</th>\n",
              "      <th>in_reply_to_user_id</th>\n",
              "      <th>in_reply_to_user_id_str</th>\n",
              "      <th>in_reply_to_screen_name</th>\n",
              "      <th>user</th>\n",
              "      <th>geo</th>\n",
              "      <th>coordinates</th>\n",
              "      <th>place</th>\n",
              "      <th>contributors</th>\n",
              "      <th>is_quote_status</th>\n",
              "      <th>retweet_count</th>\n",
              "      <th>label</th>\n",
              "    </tr>\n",
              "  </thead>\n",
              "  <tbody>\n",
              "    <tr>\n",
              "      <th>525</th>\n",
              "      <td>2020-12-09 14:14:37+00:00</td>\n",
              "      <td>1.336680e+18</td>\n",
              "      <td>1.336680e+18</td>\n",
              "      <td>Joe Biden Faces Blowback on DoD Pick: ‘Possibl...</td>\n",
              "      <td>False</td>\n",
              "      <td>[0, 159]</td>\n",
              "      <td>{'hashtags': [{'text': 'RicoTheDems', 'indices...</td>\n",
              "      <td>NaN</td>\n",
              "      <td>{'iso_language_code': 'en', 'result_type': 're...</td>\n",
              "      <td>&lt;a href=\"https://mobile.twitter.com\" rel=\"nofo...</td>\n",
              "      <td>NaN</td>\n",
              "      <td>NaN</td>\n",
              "      <td>NaN</td>\n",
              "      <td>NaN</td>\n",
              "      <td>NaN</td>\n",
              "      <td>{'id': 199374188, 'id_str': '199374188', 'name...</td>\n",
              "      <td>NaN</td>\n",
              "      <td>NaN</td>\n",
              "      <td>NaN</td>\n",
              "      <td>NaN</td>\n",
              "      <td>False</td>\n",
              "      <td>1</td>\n",
              "      <td>0</td>\n",
              "    </tr>\n",
              "    <tr>\n",
              "      <th>1214</th>\n",
              "      <td>2020-12-09 13:08:20+00:00</td>\n",
              "      <td>1.336660e+18</td>\n",
              "      <td>1.336660e+18</td>\n",
              "      <td>RT @AndrewRosSorkin: $CTRM ⛴⚓️🚢🌏🛳🐬 🌊🚢⛽️\\n\\nPAN...</td>\n",
              "      <td>False</td>\n",
              "      <td>[0, 140]</td>\n",
              "      <td>{'hashtags': [{'text': 'DryBulk', 'indices': [...</td>\n",
              "      <td>NaN</td>\n",
              "      <td>{'iso_language_code': 'en', 'result_type': 're...</td>\n",
              "      <td>&lt;a href=\"https://mobile.twitter.com\" rel=\"nofo...</td>\n",
              "      <td>NaN</td>\n",
              "      <td>NaN</td>\n",
              "      <td>NaN</td>\n",
              "      <td>NaN</td>\n",
              "      <td>NaN</td>\n",
              "      <td>{'id': 2848942445, 'id_str': '2848942445', 'na...</td>\n",
              "      <td>NaN</td>\n",
              "      <td>NaN</td>\n",
              "      <td>NaN</td>\n",
              "      <td>NaN</td>\n",
              "      <td>False</td>\n",
              "      <td>2</td>\n",
              "      <td>0</td>\n",
              "    </tr>\n",
              "    <tr>\n",
              "      <th>658</th>\n",
              "      <td>2020-12-09 14:04:06+00:00</td>\n",
              "      <td>1.336670e+18</td>\n",
              "      <td>1.336670e+18</td>\n",
              "      <td>On encryption and counter-terrorism, EU lawmak...</td>\n",
              "      <td>False</td>\n",
              "      <td>[0, 147]</td>\n",
              "      <td>{'hashtags': [{'text': 'news', 'indices': [133...</td>\n",
              "      <td>{'media': [{'id': 1336672975140098055, 'id_str...</td>\n",
              "      <td>{'iso_language_code': 'en', 'result_type': 're...</td>\n",
              "      <td>&lt;a href=\"http://twibble.io\" rel=\"nofollow\"&gt;Twi...</td>\n",
              "      <td>NaN</td>\n",
              "      <td>NaN</td>\n",
              "      <td>NaN</td>\n",
              "      <td>NaN</td>\n",
              "      <td>NaN</td>\n",
              "      <td>{'id': 2263797415, 'id_str': '2263797415', 'na...</td>\n",
              "      <td>NaN</td>\n",
              "      <td>NaN</td>\n",
              "      <td>NaN</td>\n",
              "      <td>NaN</td>\n",
              "      <td>False</td>\n",
              "      <td>0</td>\n",
              "      <td>0</td>\n",
              "    </tr>\n",
              "    <tr>\n",
              "      <th>304</th>\n",
              "      <td>2020-12-09 14:33:34+00:00</td>\n",
              "      <td>1.336680e+18</td>\n",
              "      <td>1.336680e+18</td>\n",
              "      <td>Edo State Governor, Godwin Obaseki, yesterday,...</td>\n",
              "      <td>False</td>\n",
              "      <td>[0, 150]</td>\n",
              "      <td>{'hashtags': [{'text': 'News', 'indices': [145...</td>\n",
              "      <td>NaN</td>\n",
              "      <td>{'iso_language_code': 'en', 'result_type': 're...</td>\n",
              "      <td>&lt;a href=\"https://dlvrit.com/\" rel=\"nofollow\"&gt;d...</td>\n",
              "      <td>NaN</td>\n",
              "      <td>NaN</td>\n",
              "      <td>NaN</td>\n",
              "      <td>NaN</td>\n",
              "      <td>NaN</td>\n",
              "      <td>{'id': 863764303991713792, 'id_str': '86376430...</td>\n",
              "      <td>NaN</td>\n",
              "      <td>NaN</td>\n",
              "      <td>NaN</td>\n",
              "      <td>NaN</td>\n",
              "      <td>False</td>\n",
              "      <td>0</td>\n",
              "      <td>0</td>\n",
              "    </tr>\n",
              "    <tr>\n",
              "      <th>1529</th>\n",
              "      <td>2020-12-09 12:30:03+00:00</td>\n",
              "      <td>1.336650e+18</td>\n",
              "      <td>1.336650e+18</td>\n",
              "      <td>Malaga Local Police release Christmas video ht...</td>\n",
              "      <td>False</td>\n",
              "      <td>[0, 122]</td>\n",
              "      <td>{'hashtags': [{'text': 'AxarquíaCostaTropical'...</td>\n",
              "      <td>NaN</td>\n",
              "      <td>{'iso_language_code': 'en', 'result_type': 're...</td>\n",
              "      <td>&lt;a href=\"https://dlvrit.com/\" rel=\"nofollow\"&gt;d...</td>\n",
              "      <td>NaN</td>\n",
              "      <td>NaN</td>\n",
              "      <td>NaN</td>\n",
              "      <td>NaN</td>\n",
              "      <td>NaN</td>\n",
              "      <td>{'id': 110434540, 'id_str': '110434540', 'name...</td>\n",
              "      <td>NaN</td>\n",
              "      <td>NaN</td>\n",
              "      <td>NaN</td>\n",
              "      <td>NaN</td>\n",
              "      <td>False</td>\n",
              "      <td>1</td>\n",
              "      <td>0</td>\n",
              "    </tr>\n",
              "  </tbody>\n",
              "</table>\n",
              "</div>"
            ],
            "text/plain": [
              "                     created_at            id  ...  retweet_count label\n",
              "525   2020-12-09 14:14:37+00:00  1.336680e+18  ...              1     0\n",
              "1214  2020-12-09 13:08:20+00:00  1.336660e+18  ...              2     0\n",
              "658   2020-12-09 14:04:06+00:00  1.336670e+18  ...              0     0\n",
              "304   2020-12-09 14:33:34+00:00  1.336680e+18  ...              0     0\n",
              "1529  2020-12-09 12:30:03+00:00  1.336650e+18  ...              1     0\n",
              "\n",
              "[5 rows x 23 columns]"
            ]
          },
          "metadata": {
            "tags": []
          },
          "execution_count": 51
        }
      ]
    },
    {
      "cell_type": "code",
      "metadata": {
        "colab": {
          "base_uri": "https://localhost:8080/",
          "height": 195
        },
        "id": "m5l7k3Yc0xlv",
        "outputId": "d51ef0f4-a96e-4461-f1ec-8e9501388416"
      },
      "source": [
        "# Load Narcis Tweets\n",
        "narcis_tweets  = pd.read_csv(sarcastic_twitter_narcis_file).sample(1000, random_state=80)\n",
        "narcis_tweets.head(5)"
      ],
      "execution_count": 52,
      "outputs": [
        {
          "output_type": "execute_result",
          "data": {
            "text/html": [
              "<div>\n",
              "<style scoped>\n",
              "    .dataframe tbody tr th:only-of-type {\n",
              "        vertical-align: middle;\n",
              "    }\n",
              "\n",
              "    .dataframe tbody tr th {\n",
              "        vertical-align: top;\n",
              "    }\n",
              "\n",
              "    .dataframe thead th {\n",
              "        text-align: right;\n",
              "    }\n",
              "</style>\n",
              "<table border=\"1\" class=\"dataframe\">\n",
              "  <thead>\n",
              "    <tr style=\"text-align: right;\">\n",
              "      <th></th>\n",
              "      <th>Tweet</th>\n",
              "      <th>Reverse</th>\n",
              "      <th>label</th>\n",
              "    </tr>\n",
              "  </thead>\n",
              "  <tbody>\n",
              "    <tr>\n",
              "      <th>1402</th>\n",
              "      <td>oh i just love getting hit on by creeps at terms</td>\n",
              "      <td>terms at creeps by on hit getting love just i oh</td>\n",
              "      <td>1</td>\n",
              "    </tr>\n",
              "    <tr>\n",
              "      <th>1098</th>\n",
              "      <td>i love being lied to on a daily basis</td>\n",
              "      <td>basis daily a on to lied being love i</td>\n",
              "      <td>1</td>\n",
              "    </tr>\n",
              "    <tr>\n",
              "      <th>1068</th>\n",
              "      <td>gotta love getting lied to #thebest</td>\n",
              "      <td>#thebest to lied getting love gotta</td>\n",
              "      <td>1</td>\n",
              "    </tr>\n",
              "    <tr>\n",
              "      <th>1063</th>\n",
              "      <td>holy crap ya'll i love being ignored :d</td>\n",
              "      <td>:d ignored being love i ya'll crap holy</td>\n",
              "      <td>1</td>\n",
              "    </tr>\n",
              "    <tr>\n",
              "      <th>286</th>\n",
              "      <td>cant wait to go driving tonight with USER -_- ...</td>\n",
              "      <td>#scared -_- USER with tonight driving go to wa...</td>\n",
              "      <td>0</td>\n",
              "    </tr>\n",
              "  </tbody>\n",
              "</table>\n",
              "</div>"
            ],
            "text/plain": [
              "                                                  Tweet  ... label\n",
              "1402   oh i just love getting hit on by creeps at terms  ...     1\n",
              "1098              i love being lied to on a daily basis  ...     1\n",
              "1068                gotta love getting lied to #thebest  ...     1\n",
              "1063            holy crap ya'll i love being ignored :d  ...     1\n",
              "286   cant wait to go driving tonight with USER -_- ...  ...     0\n",
              "\n",
              "[5 rows x 3 columns]"
            ]
          },
          "metadata": {
            "tags": []
          },
          "execution_count": 52
        }
      ]
    },
    {
      "cell_type": "markdown",
      "metadata": {
        "id": "AhPTFyi00-Zd"
      },
      "source": [
        "# Merge and Clean Files"
      ]
    },
    {
      "cell_type": "code",
      "metadata": {
        "colab": {
          "base_uri": "https://localhost:8080/",
          "height": 467
        },
        "id": "8ReYd67400hV",
        "outputId": "6f46f611-76ba-4a02-da22-53b4bf4ed611"
      },
      "source": [
        "# Merge sarcastic and non-sarcastic twitter files\n",
        "twitter_df = pd.concat([sarcastic_tweets, news_tweets])\n",
        "twitter_df.head(5)"
      ],
      "execution_count": 53,
      "outputs": [
        {
          "output_type": "execute_result",
          "data": {
            "text/html": [
              "<div>\n",
              "<style scoped>\n",
              "    .dataframe tbody tr th:only-of-type {\n",
              "        vertical-align: middle;\n",
              "    }\n",
              "\n",
              "    .dataframe tbody tr th {\n",
              "        vertical-align: top;\n",
              "    }\n",
              "\n",
              "    .dataframe thead th {\n",
              "        text-align: right;\n",
              "    }\n",
              "</style>\n",
              "<table border=\"1\" class=\"dataframe\">\n",
              "  <thead>\n",
              "    <tr style=\"text-align: right;\">\n",
              "      <th></th>\n",
              "      <th>created_at</th>\n",
              "      <th>id_str</th>\n",
              "      <th>full_text</th>\n",
              "      <th>truncated</th>\n",
              "      <th>display_text_range</th>\n",
              "      <th>entities</th>\n",
              "      <th>metadata</th>\n",
              "      <th>in_reply_to_status_id</th>\n",
              "      <th>in_reply_to_status_id_str</th>\n",
              "      <th>in_reply_to_user_id</th>\n",
              "      <th>in_reply_to_user_id_str</th>\n",
              "      <th>in_reply_to_screen_name</th>\n",
              "      <th>user</th>\n",
              "      <th>geo</th>\n",
              "      <th>coordinates</th>\n",
              "      <th>place</th>\n",
              "      <th>is_quote_status</th>\n",
              "      <th>retweet_count</th>\n",
              "      <th>favorite_count</th>\n",
              "      <th>favorited</th>\n",
              "      <th>retweeted</th>\n",
              "      <th>lang</th>\n",
              "      <th>label</th>\n",
              "      <th>id</th>\n",
              "      <th>extended_entities</th>\n",
              "      <th>source</th>\n",
              "      <th>contributors</th>\n",
              "    </tr>\n",
              "  </thead>\n",
              "  <tbody>\n",
              "    <tr>\n",
              "      <th>2787</th>\n",
              "      <td>2020-11-17 20:55:31+00:00</td>\n",
              "      <td>1.328800e+18</td>\n",
              "      <td>LMFAO 2600 uncounted votes found!!! 800 go to ...</td>\n",
              "      <td>False</td>\n",
              "      <td>[0, 228]</td>\n",
              "      <td>{'hashtags': [{'text': 'SnortLaugh', 'indices'...</td>\n",
              "      <td>{'iso_language_code': 'en', 'result_type': 're...</td>\n",
              "      <td>NaN</td>\n",
              "      <td>NaN</td>\n",
              "      <td>NaN</td>\n",
              "      <td>NaN</td>\n",
              "      <td>NaN</td>\n",
              "      <td>{'id': 1038464880888573952, 'id_str': '1038464...</td>\n",
              "      <td>NaN</td>\n",
              "      <td>NaN</td>\n",
              "      <td>NaN</td>\n",
              "      <td>False</td>\n",
              "      <td>0</td>\n",
              "      <td>1.0</td>\n",
              "      <td>False</td>\n",
              "      <td>False</td>\n",
              "      <td>en</td>\n",
              "      <td>1</td>\n",
              "      <td>NaN</td>\n",
              "      <td>NaN</td>\n",
              "      <td>NaN</td>\n",
              "      <td>NaN</td>\n",
              "    </tr>\n",
              "    <tr>\n",
              "      <th>2798</th>\n",
              "      <td>2020-11-17 20:15:56+00:00</td>\n",
              "      <td>1.328790e+18</td>\n",
              "      <td>The Upside of COVID......#silverlinings #sarca...</td>\n",
              "      <td>False</td>\n",
              "      <td>[0, 48]</td>\n",
              "      <td>{'hashtags': [{'text': 'silverlinings', 'indic...</td>\n",
              "      <td>{'iso_language_code': 'en', 'result_type': 're...</td>\n",
              "      <td>NaN</td>\n",
              "      <td>NaN</td>\n",
              "      <td>NaN</td>\n",
              "      <td>NaN</td>\n",
              "      <td>NaN</td>\n",
              "      <td>{'id': 130680831, 'id_str': '130680831', 'name...</td>\n",
              "      <td>NaN</td>\n",
              "      <td>NaN</td>\n",
              "      <td>NaN</td>\n",
              "      <td>True</td>\n",
              "      <td>1</td>\n",
              "      <td>1.0</td>\n",
              "      <td>False</td>\n",
              "      <td>False</td>\n",
              "      <td>en</td>\n",
              "      <td>1</td>\n",
              "      <td>NaN</td>\n",
              "      <td>NaN</td>\n",
              "      <td>NaN</td>\n",
              "      <td>NaN</td>\n",
              "    </tr>\n",
              "    <tr>\n",
              "      <th>2527</th>\n",
              "      <td>2020-11-18 14:58:42+00:00</td>\n",
              "      <td>1.329080e+18</td>\n",
              "      <td>🎧 4 yr likes, 4 yr likes, \\ni'd steal 10,000 b...</td>\n",
              "      <td>False</td>\n",
              "      <td>[0, 61]</td>\n",
              "      <td>{'hashtags': [{'text': 'Sarcasm', 'indices': [...</td>\n",
              "      <td>{'iso_language_code': 'en', 'result_type': 're...</td>\n",
              "      <td>NaN</td>\n",
              "      <td>NaN</td>\n",
              "      <td>NaN</td>\n",
              "      <td>NaN</td>\n",
              "      <td>NaN</td>\n",
              "      <td>{'id': 407759517, 'id_str': '407759517', 'name...</td>\n",
              "      <td>NaN</td>\n",
              "      <td>NaN</td>\n",
              "      <td>NaN</td>\n",
              "      <td>False</td>\n",
              "      <td>0</td>\n",
              "      <td>2.0</td>\n",
              "      <td>False</td>\n",
              "      <td>False</td>\n",
              "      <td>en</td>\n",
              "      <td>1</td>\n",
              "      <td>NaN</td>\n",
              "      <td>NaN</td>\n",
              "      <td>NaN</td>\n",
              "      <td>NaN</td>\n",
              "    </tr>\n",
              "    <tr>\n",
              "      <th>1499</th>\n",
              "      <td>2020-11-21 23:33:30+00:00</td>\n",
              "      <td>1.330290e+18</td>\n",
              "      <td>Michigan #gop leaders stay at Trump hotel, mee...</td>\n",
              "      <td>False</td>\n",
              "      <td>[0, 167]</td>\n",
              "      <td>{'hashtags': [{'text': 'gop', 'indices': [9, 1...</td>\n",
              "      <td>{'iso_language_code': 'en', 'result_type': 're...</td>\n",
              "      <td>NaN</td>\n",
              "      <td>NaN</td>\n",
              "      <td>NaN</td>\n",
              "      <td>NaN</td>\n",
              "      <td>NaN</td>\n",
              "      <td>{'id': 17217175, 'id_str': '17217175', 'name':...</td>\n",
              "      <td>NaN</td>\n",
              "      <td>NaN</td>\n",
              "      <td>NaN</td>\n",
              "      <td>False</td>\n",
              "      <td>0</td>\n",
              "      <td>0.0</td>\n",
              "      <td>False</td>\n",
              "      <td>False</td>\n",
              "      <td>en</td>\n",
              "      <td>1</td>\n",
              "      <td>NaN</td>\n",
              "      <td>NaN</td>\n",
              "      <td>NaN</td>\n",
              "      <td>NaN</td>\n",
              "    </tr>\n",
              "    <tr>\n",
              "      <th>1689</th>\n",
              "      <td>2020-11-21 11:03:45+00:00</td>\n",
              "      <td>1.330100e+18</td>\n",
              "      <td>Some of you are just accidents; not planned.\\n...</td>\n",
              "      <td>False</td>\n",
              "      <td>[0, 98]</td>\n",
              "      <td>{'hashtags': [{'text': 'life', 'indices': [84,...</td>\n",
              "      <td>{'iso_language_code': 'en', 'result_type': 're...</td>\n",
              "      <td>NaN</td>\n",
              "      <td>NaN</td>\n",
              "      <td>NaN</td>\n",
              "      <td>NaN</td>\n",
              "      <td>NaN</td>\n",
              "      <td>{'id': 1107988407781916672, 'id_str': '1107988...</td>\n",
              "      <td>NaN</td>\n",
              "      <td>NaN</td>\n",
              "      <td>NaN</td>\n",
              "      <td>False</td>\n",
              "      <td>0</td>\n",
              "      <td>4.0</td>\n",
              "      <td>False</td>\n",
              "      <td>False</td>\n",
              "      <td>en</td>\n",
              "      <td>1</td>\n",
              "      <td>NaN</td>\n",
              "      <td>NaN</td>\n",
              "      <td>NaN</td>\n",
              "      <td>NaN</td>\n",
              "    </tr>\n",
              "  </tbody>\n",
              "</table>\n",
              "</div>"
            ],
            "text/plain": [
              "                     created_at        id_str  ... source  contributors\n",
              "2787  2020-11-17 20:55:31+00:00  1.328800e+18  ...    NaN           NaN\n",
              "2798  2020-11-17 20:15:56+00:00  1.328790e+18  ...    NaN           NaN\n",
              "2527  2020-11-18 14:58:42+00:00  1.329080e+18  ...    NaN           NaN\n",
              "1499  2020-11-21 23:33:30+00:00  1.330290e+18  ...    NaN           NaN\n",
              "1689  2020-11-21 11:03:45+00:00  1.330100e+18  ...    NaN           NaN\n",
              "\n",
              "[5 rows x 27 columns]"
            ]
          },
          "metadata": {
            "tags": []
          },
          "execution_count": 53
        }
      ]
    },
    {
      "cell_type": "code",
      "metadata": {
        "id": "QSXz48TQ03VT"
      },
      "source": [
        "def clean_text(txt):\n",
        "    '''\n",
        "    Function to clean text\n",
        "    '''\n",
        "    txt = re.sub(r'[,.;@#?!&$\\-\\']+', '', txt, flags=re.IGNORECASE)    # Replace punctuation with space\n",
        "    txt = re.sub(r'\\ +', ' ', txt, flags=re.IGNORECASE)                # Accept one or more copies of punctuation\n",
        "    txt = re.sub(r'\\\"', ' ', txt, flags=re.IGNORECASE)                 # Replace quote mark with space\n",
        "    txt = re.sub(r'\\\\n', ' ', txt, flags=re.IGNORECASE)                # Replace end line with space\n",
        "    txt = re.sub(r'[^a-zA-Z]', ' ', txt, flags=re.VERBOSE)             # Replace any character that isn't a letter\n",
        "    txt = re.sub(r'\\b\\w{1,1}\\b', '', txt, flags=re.VERBOSE)            # Removes all words less than 1 letters\n",
        "    txt = re.sub(r'#sarcasm', '', txt, flags=re.VERBOSE)               # Removes all sarcasm hashtags\n",
        "    txt = re.sub(r'sarcasm', '', txt, flags=re.IGNORECASE)             # Removes all sarcasm words\n",
        "    txt = re.sub(r'#news', '', txt, flags=re.VERBOSE)                  # Removes all news hashtags\n",
        "    txt = re.sub(r'news', '', txt, flags=re.IGNORECASE)                # Removes all news words\n",
        "    txt = re.sub(r'https', '', txt, flags=re.IGNORECASE)               # Removes httlps words\n",
        "    txt = re.sub(r'tco', '', txt, flags=re.IGNORECASE)  \n",
        "    txt = re.sub(r'rt', '', txt, flags=re.IGNORECASE)  \n",
        "    txt = re.sub(r'USER', '', txt, flags=re.IGNORECASE)\n",
        "    txt = txt.lstrip()\n",
        "    txt = txt.rstrip()\n",
        "    txt = txt.strip(\"\\\\n\")\n",
        "    txt = re.sub(r'URL', '', txt, flags=re.IGNORECASE)\n",
        "                   \n",
        "    return txt"
      ],
      "execution_count": 54,
      "outputs": []
    },
    {
      "cell_type": "code",
      "metadata": {
        "id": "thJjAB141Q5g"
      },
      "source": [
        "def convert_to_list(df, col, l):\n",
        "    '''\n",
        "    Function to convert column to list\n",
        "    '''\n",
        "    # Iterate through data frame\n",
        "    for row in df[col]:\n",
        "        if col != 'label':\n",
        "            # Convert row to string\n",
        "            row = str(row)\n",
        "            row = clean_text(row) \n",
        "        \n",
        "        # Append row to list\n",
        "        l.append(row)\n",
        "        \n",
        "    return l"
      ],
      "execution_count": 55,
      "outputs": []
    },
    {
      "cell_type": "code",
      "metadata": {
        "colab": {
          "base_uri": "https://localhost:8080/"
        },
        "id": "VX4hwTKf1UIQ",
        "outputId": "9e30c1ee-d5f9-47eb-e97b-f9e1f0c9ec67"
      },
      "source": [
        "text = []\n",
        "labels = []\n",
        "\n",
        "# Get twitter api lists\n",
        "text = convert_to_list(twitter_df, 'full_text', text) \n",
        "labels = convert_to_list(twitter_df, 'label', labels) \n",
        "\n",
        "# Get arcis twitter lists\n",
        "text = convert_to_list(narcis_tweets, 'Tweet', text) \n",
        "labels = convert_to_list(narcis_tweets, 'label', labels) \n",
        "\n",
        "# Get Reddit comments lists\n",
        "text = convert_to_list(reddit_comments, 'comment', text) \n",
        "labels = convert_to_list(reddit_comments, 'label', labels) \n",
        "\n",
        "# Print length of lists\n",
        "print(len(text))\n",
        "print(len(labels))\n",
        "\n",
        "# Show text\n",
        "text[:10]"
      ],
      "execution_count": 56,
      "outputs": [
        {
          "output_type": "stream",
          "text": [
            "5000\n",
            "5000\n"
          ],
          "name": "stdout"
        },
        {
          "output_type": "execute_result",
          "data": {
            "text/plain": [
              "['LMFAO      uncounted votes found     go to Trump That  it Trump won JoeBiden amp KamalaHarris need to quit their jobs now SnoLaugh  Resistance',\n",
              " 'The Upside of COVIDsilverlinings      gWkfhcQ MI',\n",
              " 'yr likes   yr likes  id steal       bikes',\n",
              " 'Michigan gop leaders stay at Trump hotel meet with realDonaldTrump and then mysteriously want to void all votes by democrats No corruption suspected  mia',\n",
              " 'Some of you are just accidents not planned Dont take your life so seriously     life',\n",
              " 'pinoyanghang  WORD OF THE DAY   Campa anita    pomanteau of the words  campa   and  ma anita        hg czZK',\n",
              " 'Keith Starmer  decision not to restore the whip to jeremycorbyn is  petty move  look forward to seeing action from the socialistcam in suppo of JC  Time will tell Either way Starmer  idea of Unity is  joke Solidarity  What Solidarity',\n",
              " 'IGNORE  dank twitterpost tweet anime relatable indianmemes funnyvideos instamemes tiktokmemes comedy likeforlikes funnytweets dankmemesdaily animememes followforfollowback  desimemes receh redditmemes like bestmemes memer tumblr dagelan funnyshit     Az  zU ZKU',\n",
              " 'ejmalrai  The driver of this Israeli tank was told that Hezbollah could see him from an elevated position He skilfully turned his tank',\n",
              " 'Long two days at work  Looking forward to dinner with my best friend from HS and his wife at the Office in Pleasanton Tejas  Hope FowlerSpos   dont mind me hanging out on his stomping grounds tonight']"
            ]
          },
          "metadata": {
            "tags": []
          },
          "execution_count": 56
        }
      ]
    },
    {
      "cell_type": "code",
      "metadata": {
        "colab": {
          "base_uri": "https://localhost:8080/"
        },
        "id": "wMJ7Oa1gFWqp",
        "outputId": "97f09503-c236-41b3-ec10-462126779139"
      },
      "source": [
        "# Create a dataframe with text and labels column for some quick EDA \n",
        "combined = {'text':text,'labels':labels}\n",
        "combined_df = pd.DataFrame(combined)\n",
        "print(combined_df)"
      ],
      "execution_count": 57,
      "outputs": [
        {
          "output_type": "stream",
          "text": [
            "                                                   text  labels\n",
            "0     LMFAO      uncounted votes found     go to Tru...       1\n",
            "1      The Upside of COVIDsilverlinings      gWkfhcQ MI       1\n",
            "2             yr likes   yr likes  id steal       bikes       1\n",
            "3     Michigan gop leaders stay at Trump hotel meet ...       1\n",
            "4     Some of you are just accidents not planned Don...       1\n",
            "...                                                 ...     ...\n",
            "4995                                                          0\n",
            "4996  Obviously his high IQ burden does not allow hi...       1\n",
            "4997  Too much navel gazing by the theoretical physi...       0\n",
            "4998  couple of leaves on my plant are doing that as...       0\n",
            "4999    know this isnt from experience completely false       0\n",
            "\n",
            "[5000 rows x 2 columns]\n"
          ],
          "name": "stdout"
        }
      ]
    },
    {
      "cell_type": "code",
      "metadata": {
        "colab": {
          "base_uri": "https://localhost:8080/",
          "height": 279
        },
        "id": "vQfVvcDZFWqp",
        "outputId": "a80971c7-24c9-42a7-e885-0f4511d27bc7"
      },
      "source": [
        "ax = sns.countplot(x=\"labels\", data=combined_df)"
      ],
      "execution_count": null,
      "outputs": [
        {
          "output_type": "display_data",
          "data": {
            "image/png": "[encoded data removed]",
            "text/plain": [
              "<Figure size 432x288 with 1 Axes>"
            ]
          },
          "metadata": {
            "tags": [],
            "needs_background": "light"
          }
        }
      ]
    },
    {
      "cell_type": "markdown",
      "metadata": {
        "id": "44waC7kHxHS4"
      },
      "source": [
        "# Instantiate Vectorizer"
      ]
    },
    {
      "cell_type": "code",
      "metadata": {
        "id": "csbh7LyA1fQC"
      },
      "source": [
        "# Class to Lemmatize words\n",
        "lemmmatizer = WordNetLemmatizer()\n",
        "\n",
        "class LemmaTokenizer:\n",
        "    def __init__(self):\n",
        "        self.wnl = WordNetLemmatizer()\n",
        "    def __call__(self, doc):\n",
        "        return [self.wnl.lemmatize(t) for t in word_tokenize(doc)]"
      ],
      "execution_count": 58,
      "outputs": []
    },
    {
      "cell_type": "code",
      "metadata": {
        "id": "B3n-bhfD1hzv"
      },
      "source": [
        "# Instantiate Count Vectorizer\n",
        "def vectorize(max_ngram, lower):\n",
        "  cv = CountVectorizer(\n",
        "          input ='content',                 # Input content\n",
        "          analyzer = 'word',                # Break up text by words\n",
        "          stop_words = 'english',           # Remove English stop words\n",
        "          tokenizer = LemmaTokenizer(),     # Lemmatize words to their base\n",
        "          strip_accents = 'unicode',        # Remove unicode characters\n",
        "          ngram_range=(1, max_ngram),       # Divide text into 1-3 word tokens\n",
        "          max_features=1000,                # Return top words\n",
        "          lowercase=lower                   # All tokens are lowercase\n",
        "  )\n",
        "  return cv"
      ],
      "execution_count": 59,
      "outputs": []
    },
    {
      "cell_type": "code",
      "metadata": {
        "id": "PFRcEZYMKFMR"
      },
      "source": [
        "max_ngram = 3\n",
        "lower = True\n",
        "\n",
        "# Vectorize text (lowercase, ngram max = 3, news data included)\n",
        "cv_lower_3_news = vectorize(max_ngram, lower)\n",
        "\n",
        "# Vectorize text (No lowercase, ngram max = 3, news data included)\n",
        "lower = False\n",
        "cv_all_3_news = vectorize(max_ngram, lower)\n",
        "\n",
        "# Vectorize text (No lowercase, ngram max = 1, news data included)\n",
        "max_ngram = 1\n",
        "cv_all_1_news = vectorize(max_ngram, lower)\n",
        "\n",
        "# Vectorize text (No lowercase, ngram max = 5, news data included)\n",
        "max_ngram = 5\n",
        "cv_all_5_news = vectorize(max_ngram, lower)\n",
        "\n",
        "# Vectorize text (No lowercase, ngram max = 3, news data not included)\n",
        "cv_all_3_nonews = vectorize(max_ngram, lower)\n"
      ],
      "execution_count": 60,
      "outputs": []
    },
    {
      "cell_type": "code",
      "metadata": {
        "id": "cjSvNL30FWqq"
      },
      "source": [
        "# We will also use TFID to vectorize our data\n",
        "TFIDF =TfidfVectorizer(input='content',\n",
        "                        analyzer = 'word',\n",
        "                        stop_words='english',\n",
        "                        tokenizer= LemmaTokenizer(),\n",
        "                        strip_accents = 'unicode', \n",
        "                        lowercase = True,\n",
        "                        max_features=1000\n",
        "                        )"
      ],
      "execution_count": 24,
      "outputs": []
    },
    {
      "cell_type": "markdown",
      "metadata": {
        "id": "v8mfweZ51mZy"
      },
      "source": [
        "# Get Word Frequency Data Frame"
      ]
    },
    {
      "cell_type": "code",
      "metadata": {
        "id": "UDEh1Xg-1nRc"
      },
      "source": [
        "def create_df(text, vect):\n",
        "    '''\n",
        "    Create document term matrix data frame\n",
        "    '''\n",
        "    matrix = vect.fit_transform(text)                       # Apply CountVectorizer to get sparse matrix\n",
        "    words = vect.get_feature_names()                        # Get vocab or column names\n",
        "    df = pd.DataFrame(matrix.toarray(), columns = words)    # Convert matrix to a dataframe\n",
        "    return df "
      ],
      "execution_count": 61,
      "outputs": []
    },
    {
      "cell_type": "code",
      "metadata": {
        "colab": {
          "base_uri": "https://localhost:8080/",
          "height": 412
        },
        "id": "WvN8q4sy1sNf",
        "outputId": "e71ffa83-8862-443e-f00b-70a74272b002"
      },
      "source": [
        "# Return dataframes for Count Vectorizer\n",
        "df_lower_3_news = create_df(text, cv_lower_3_news)\n",
        "df_all_3_news = create_df(text, cv_all_3_news)\n",
        "df_all_1_news = create_df(text, cv_all_1_news)\n",
        "df_all_5_news = create_df(text, cv_all_5_news)\n",
        "df_all_3_nonews = create_df(text, cv_lower_3_news)\n",
        "\n",
        "# Print cleaned df\n",
        "df_lower_3_news.head(5)"
      ],
      "execution_count": 62,
      "outputs": [
        {
          "output_type": "stream",
          "text": [
            "/usr/local/lib/python3.6/dist-packages/sklearn/feature_extraction/text.py:385: UserWarning: Your stop_words may be inconsistent with your preprocessing. Tokenizing the stop words generated tokens ['ha', 'le', 'u', 'wa'] not in stop_words.\n",
            "  'stop_words.' % sorted(inconsistent))\n",
            "/usr/local/lib/python3.6/dist-packages/sklearn/feature_extraction/text.py:385: UserWarning: Your stop_words may be inconsistent with your preprocessing. Tokenizing the stop words generated tokens ['ha', 'le', 'u', 'wa'] not in stop_words.\n",
            "  'stop_words.' % sorted(inconsistent))\n",
            "/usr/local/lib/python3.6/dist-packages/sklearn/feature_extraction/text.py:385: UserWarning: Your stop_words may be inconsistent with your preprocessing. Tokenizing the stop words generated tokens ['ha', 'le', 'u', 'wa'] not in stop_words.\n",
            "  'stop_words.' % sorted(inconsistent))\n",
            "/usr/local/lib/python3.6/dist-packages/sklearn/feature_extraction/text.py:385: UserWarning: Your stop_words may be inconsistent with your preprocessing. Tokenizing the stop words generated tokens ['ha', 'le', 'u', 'wa'] not in stop_words.\n",
            "  'stop_words.' % sorted(inconsistent))\n"
          ],
          "name": "stderr"
        },
        {
          "output_type": "execute_result",
          "data": {
            "text/html": [
              "<div>\n",
              "<style scoped>\n",
              "    .dataframe tbody tr th:only-of-type {\n",
              "        vertical-align: middle;\n",
              "    }\n",
              "\n",
              "    .dataframe tbody tr th {\n",
              "        vertical-align: top;\n",
              "    }\n",
              "\n",
              "    .dataframe thead th {\n",
              "        text-align: right;\n",
              "    }\n",
              "</style>\n",
              "<table border=\"1\" class=\"dataframe\">\n",
              "  <thead>\n",
              "    <tr style=\"text-align: right;\">\n",
              "      <th></th>\n",
              "      <th>able</th>\n",
              "      <th>absolutely</th>\n",
              "      <th>absolutely love</th>\n",
              "      <th>access</th>\n",
              "      <th>according</th>\n",
              "      <th>account</th>\n",
              "      <th>action</th>\n",
              "      <th>actually</th>\n",
              "      <th>actually added</th>\n",
              "      <th>actually added net</th>\n",
              "      <th>add</th>\n",
              "      <th>added</th>\n",
              "      <th>added net</th>\n",
              "      <th>added net new</th>\n",
              "      <th>advice</th>\n",
              "      <th>age</th>\n",
              "      <th>ago</th>\n",
              "      <th>ai</th>\n",
              "      <th>ai researcher</th>\n",
              "      <th>ai researcher detection</th>\n",
              "      <th>aicle</th>\n",
              "      <th>allow</th>\n",
              "      <th>amazing</th>\n",
              "      <th>amazon</th>\n",
              "      <th>america</th>\n",
              "      <th>american</th>\n",
              "      <th>amp</th>\n",
              "      <th>amp teacher</th>\n",
              "      <th>amp teacher home</th>\n",
              "      <th>anime</th>\n",
              "      <th>anita</th>\n",
              "      <th>anita pomanteau</th>\n",
              "      <th>anita pomanteau word</th>\n",
              "      <th>app</th>\n",
              "      <th>apparently</th>\n",
              "      <th>apple</th>\n",
              "      <th>arent</th>\n",
              "      <th>ask</th>\n",
              "      <th>asked</th>\n",
              "      <th>asshole</th>\n",
              "      <th>...</th>\n",
              "      <th>wit say really</th>\n",
              "      <th>woh</th>\n",
              "      <th>woken</th>\n",
              "      <th>woman</th>\n",
              "      <th>won</th>\n",
              "      <th>wonder</th>\n",
              "      <th>wont</th>\n",
              "      <th>word</th>\n",
              "      <th>word campa</th>\n",
              "      <th>word campa ma</th>\n",
              "      <th>word day</th>\n",
              "      <th>word day campa</th>\n",
              "      <th>work</th>\n",
              "      <th>working</th>\n",
              "      <th>world</th>\n",
              "      <th>worry</th>\n",
              "      <th>wouldn</th>\n",
              "      <th>wouldnt</th>\n",
              "      <th>wow</th>\n",
              "      <th>write</th>\n",
              "      <th>write escape</th>\n",
              "      <th>write escape british</th>\n",
              "      <th>wrong</th>\n",
              "      <th>xbox</th>\n",
              "      <th>ya</th>\n",
              "      <th>yall</th>\n",
              "      <th>yay</th>\n",
              "      <th>yeah</th>\n",
              "      <th>year</th>\n",
              "      <th>yes</th>\n",
              "      <th>yh</th>\n",
              "      <th>yh gofr</th>\n",
              "      <th>young</th>\n",
              "      <th>youre</th>\n",
              "      <th>youtube</th>\n",
              "      <th>yugioh</th>\n",
              "      <th>yup</th>\n",
              "      <th>zzfauvimfk</th>\n",
              "      <th>zzfauvimfk stayhome</th>\n",
              "      <th>zzfauvimfk stayhome read</th>\n",
              "    </tr>\n",
              "  </thead>\n",
              "  <tbody>\n",
              "    <tr>\n",
              "      <th>0</th>\n",
              "      <td>0</td>\n",
              "      <td>0</td>\n",
              "      <td>0</td>\n",
              "      <td>0</td>\n",
              "      <td>0</td>\n",
              "      <td>0</td>\n",
              "      <td>0</td>\n",
              "      <td>0</td>\n",
              "      <td>0</td>\n",
              "      <td>0</td>\n",
              "      <td>0</td>\n",
              "      <td>0</td>\n",
              "      <td>0</td>\n",
              "      <td>0</td>\n",
              "      <td>0</td>\n",
              "      <td>0</td>\n",
              "      <td>0</td>\n",
              "      <td>0</td>\n",
              "      <td>0</td>\n",
              "      <td>0</td>\n",
              "      <td>0</td>\n",
              "      <td>0</td>\n",
              "      <td>0</td>\n",
              "      <td>0</td>\n",
              "      <td>0</td>\n",
              "      <td>0</td>\n",
              "      <td>1</td>\n",
              "      <td>0</td>\n",
              "      <td>0</td>\n",
              "      <td>0</td>\n",
              "      <td>0</td>\n",
              "      <td>0</td>\n",
              "      <td>0</td>\n",
              "      <td>0</td>\n",
              "      <td>0</td>\n",
              "      <td>0</td>\n",
              "      <td>0</td>\n",
              "      <td>0</td>\n",
              "      <td>0</td>\n",
              "      <td>0</td>\n",
              "      <td>...</td>\n",
              "      <td>0</td>\n",
              "      <td>0</td>\n",
              "      <td>0</td>\n",
              "      <td>0</td>\n",
              "      <td>1</td>\n",
              "      <td>0</td>\n",
              "      <td>0</td>\n",
              "      <td>0</td>\n",
              "      <td>0</td>\n",
              "      <td>0</td>\n",
              "      <td>0</td>\n",
              "      <td>0</td>\n",
              "      <td>0</td>\n",
              "      <td>0</td>\n",
              "      <td>0</td>\n",
              "      <td>0</td>\n",
              "      <td>0</td>\n",
              "      <td>0</td>\n",
              "      <td>0</td>\n",
              "      <td>0</td>\n",
              "      <td>0</td>\n",
              "      <td>0</td>\n",
              "      <td>0</td>\n",
              "      <td>0</td>\n",
              "      <td>0</td>\n",
              "      <td>0</td>\n",
              "      <td>0</td>\n",
              "      <td>0</td>\n",
              "      <td>0</td>\n",
              "      <td>0</td>\n",
              "      <td>0</td>\n",
              "      <td>0</td>\n",
              "      <td>0</td>\n",
              "      <td>0</td>\n",
              "      <td>0</td>\n",
              "      <td>0</td>\n",
              "      <td>0</td>\n",
              "      <td>0</td>\n",
              "      <td>0</td>\n",
              "      <td>0</td>\n",
              "    </tr>\n",
              "    <tr>\n",
              "      <th>1</th>\n",
              "      <td>0</td>\n",
              "      <td>0</td>\n",
              "      <td>0</td>\n",
              "      <td>0</td>\n",
              "      <td>0</td>\n",
              "      <td>0</td>\n",
              "      <td>0</td>\n",
              "      <td>0</td>\n",
              "      <td>0</td>\n",
              "      <td>0</td>\n",
              "      <td>0</td>\n",
              "      <td>0</td>\n",
              "      <td>0</td>\n",
              "      <td>0</td>\n",
              "      <td>0</td>\n",
              "      <td>0</td>\n",
              "      <td>0</td>\n",
              "      <td>0</td>\n",
              "      <td>0</td>\n",
              "      <td>0</td>\n",
              "      <td>0</td>\n",
              "      <td>0</td>\n",
              "      <td>0</td>\n",
              "      <td>0</td>\n",
              "      <td>0</td>\n",
              "      <td>0</td>\n",
              "      <td>0</td>\n",
              "      <td>0</td>\n",
              "      <td>0</td>\n",
              "      <td>0</td>\n",
              "      <td>0</td>\n",
              "      <td>0</td>\n",
              "      <td>0</td>\n",
              "      <td>0</td>\n",
              "      <td>0</td>\n",
              "      <td>0</td>\n",
              "      <td>0</td>\n",
              "      <td>0</td>\n",
              "      <td>0</td>\n",
              "      <td>0</td>\n",
              "      <td>...</td>\n",
              "      <td>0</td>\n",
              "      <td>0</td>\n",
              "      <td>0</td>\n",
              "      <td>0</td>\n",
              "      <td>0</td>\n",
              "      <td>0</td>\n",
              "      <td>0</td>\n",
              "      <td>0</td>\n",
              "      <td>0</td>\n",
              "      <td>0</td>\n",
              "      <td>0</td>\n",
              "      <td>0</td>\n",
              "      <td>0</td>\n",
              "      <td>0</td>\n",
              "      <td>0</td>\n",
              "      <td>0</td>\n",
              "      <td>0</td>\n",
              "      <td>0</td>\n",
              "      <td>0</td>\n",
              "      <td>0</td>\n",
              "      <td>0</td>\n",
              "      <td>0</td>\n",
              "      <td>0</td>\n",
              "      <td>0</td>\n",
              "      <td>0</td>\n",
              "      <td>0</td>\n",
              "      <td>0</td>\n",
              "      <td>0</td>\n",
              "      <td>0</td>\n",
              "      <td>0</td>\n",
              "      <td>0</td>\n",
              "      <td>0</td>\n",
              "      <td>0</td>\n",
              "      <td>0</td>\n",
              "      <td>0</td>\n",
              "      <td>0</td>\n",
              "      <td>0</td>\n",
              "      <td>0</td>\n",
              "      <td>0</td>\n",
              "      <td>0</td>\n",
              "    </tr>\n",
              "    <tr>\n",
              "      <th>2</th>\n",
              "      <td>0</td>\n",
              "      <td>0</td>\n",
              "      <td>0</td>\n",
              "      <td>0</td>\n",
              "      <td>0</td>\n",
              "      <td>0</td>\n",
              "      <td>0</td>\n",
              "      <td>0</td>\n",
              "      <td>0</td>\n",
              "      <td>0</td>\n",
              "      <td>0</td>\n",
              "      <td>0</td>\n",
              "      <td>0</td>\n",
              "      <td>0</td>\n",
              "      <td>0</td>\n",
              "      <td>0</td>\n",
              "      <td>0</td>\n",
              "      <td>0</td>\n",
              "      <td>0</td>\n",
              "      <td>0</td>\n",
              "      <td>0</td>\n",
              "      <td>0</td>\n",
              "      <td>0</td>\n",
              "      <td>0</td>\n",
              "      <td>0</td>\n",
              "      <td>0</td>\n",
              "      <td>0</td>\n",
              "      <td>0</td>\n",
              "      <td>0</td>\n",
              "      <td>0</td>\n",
              "      <td>0</td>\n",
              "      <td>0</td>\n",
              "      <td>0</td>\n",
              "      <td>0</td>\n",
              "      <td>0</td>\n",
              "      <td>0</td>\n",
              "      <td>0</td>\n",
              "      <td>0</td>\n",
              "      <td>0</td>\n",
              "      <td>0</td>\n",
              "      <td>...</td>\n",
              "      <td>0</td>\n",
              "      <td>0</td>\n",
              "      <td>0</td>\n",
              "      <td>0</td>\n",
              "      <td>0</td>\n",
              "      <td>0</td>\n",
              "      <td>0</td>\n",
              "      <td>0</td>\n",
              "      <td>0</td>\n",
              "      <td>0</td>\n",
              "      <td>0</td>\n",
              "      <td>0</td>\n",
              "      <td>0</td>\n",
              "      <td>0</td>\n",
              "      <td>0</td>\n",
              "      <td>0</td>\n",
              "      <td>0</td>\n",
              "      <td>0</td>\n",
              "      <td>0</td>\n",
              "      <td>0</td>\n",
              "      <td>0</td>\n",
              "      <td>0</td>\n",
              "      <td>0</td>\n",
              "      <td>0</td>\n",
              "      <td>0</td>\n",
              "      <td>0</td>\n",
              "      <td>0</td>\n",
              "      <td>0</td>\n",
              "      <td>0</td>\n",
              "      <td>0</td>\n",
              "      <td>0</td>\n",
              "      <td>0</td>\n",
              "      <td>0</td>\n",
              "      <td>0</td>\n",
              "      <td>0</td>\n",
              "      <td>0</td>\n",
              "      <td>0</td>\n",
              "      <td>0</td>\n",
              "      <td>0</td>\n",
              "      <td>0</td>\n",
              "    </tr>\n",
              "    <tr>\n",
              "      <th>3</th>\n",
              "      <td>0</td>\n",
              "      <td>0</td>\n",
              "      <td>0</td>\n",
              "      <td>0</td>\n",
              "      <td>0</td>\n",
              "      <td>0</td>\n",
              "      <td>0</td>\n",
              "      <td>0</td>\n",
              "      <td>0</td>\n",
              "      <td>0</td>\n",
              "      <td>0</td>\n",
              "      <td>0</td>\n",
              "      <td>0</td>\n",
              "      <td>0</td>\n",
              "      <td>0</td>\n",
              "      <td>0</td>\n",
              "      <td>0</td>\n",
              "      <td>0</td>\n",
              "      <td>0</td>\n",
              "      <td>0</td>\n",
              "      <td>0</td>\n",
              "      <td>0</td>\n",
              "      <td>0</td>\n",
              "      <td>0</td>\n",
              "      <td>0</td>\n",
              "      <td>0</td>\n",
              "      <td>0</td>\n",
              "      <td>0</td>\n",
              "      <td>0</td>\n",
              "      <td>0</td>\n",
              "      <td>0</td>\n",
              "      <td>0</td>\n",
              "      <td>0</td>\n",
              "      <td>0</td>\n",
              "      <td>0</td>\n",
              "      <td>0</td>\n",
              "      <td>0</td>\n",
              "      <td>0</td>\n",
              "      <td>0</td>\n",
              "      <td>0</td>\n",
              "      <td>...</td>\n",
              "      <td>0</td>\n",
              "      <td>0</td>\n",
              "      <td>0</td>\n",
              "      <td>0</td>\n",
              "      <td>0</td>\n",
              "      <td>0</td>\n",
              "      <td>0</td>\n",
              "      <td>0</td>\n",
              "      <td>0</td>\n",
              "      <td>0</td>\n",
              "      <td>0</td>\n",
              "      <td>0</td>\n",
              "      <td>0</td>\n",
              "      <td>0</td>\n",
              "      <td>0</td>\n",
              "      <td>0</td>\n",
              "      <td>0</td>\n",
              "      <td>0</td>\n",
              "      <td>0</td>\n",
              "      <td>0</td>\n",
              "      <td>0</td>\n",
              "      <td>0</td>\n",
              "      <td>0</td>\n",
              "      <td>0</td>\n",
              "      <td>0</td>\n",
              "      <td>0</td>\n",
              "      <td>0</td>\n",
              "      <td>0</td>\n",
              "      <td>0</td>\n",
              "      <td>0</td>\n",
              "      <td>0</td>\n",
              "      <td>0</td>\n",
              "      <td>0</td>\n",
              "      <td>0</td>\n",
              "      <td>0</td>\n",
              "      <td>0</td>\n",
              "      <td>0</td>\n",
              "      <td>0</td>\n",
              "      <td>0</td>\n",
              "      <td>0</td>\n",
              "    </tr>\n",
              "    <tr>\n",
              "      <th>4</th>\n",
              "      <td>0</td>\n",
              "      <td>0</td>\n",
              "      <td>0</td>\n",
              "      <td>0</td>\n",
              "      <td>0</td>\n",
              "      <td>0</td>\n",
              "      <td>0</td>\n",
              "      <td>0</td>\n",
              "      <td>0</td>\n",
              "      <td>0</td>\n",
              "      <td>0</td>\n",
              "      <td>0</td>\n",
              "      <td>0</td>\n",
              "      <td>0</td>\n",
              "      <td>0</td>\n",
              "      <td>0</td>\n",
              "      <td>0</td>\n",
              "      <td>0</td>\n",
              "      <td>0</td>\n",
              "      <td>0</td>\n",
              "      <td>0</td>\n",
              "      <td>0</td>\n",
              "      <td>0</td>\n",
              "      <td>0</td>\n",
              "      <td>0</td>\n",
              "      <td>0</td>\n",
              "      <td>0</td>\n",
              "      <td>0</td>\n",
              "      <td>0</td>\n",
              "      <td>0</td>\n",
              "      <td>0</td>\n",
              "      <td>0</td>\n",
              "      <td>0</td>\n",
              "      <td>0</td>\n",
              "      <td>0</td>\n",
              "      <td>0</td>\n",
              "      <td>0</td>\n",
              "      <td>0</td>\n",
              "      <td>0</td>\n",
              "      <td>0</td>\n",
              "      <td>...</td>\n",
              "      <td>0</td>\n",
              "      <td>0</td>\n",
              "      <td>0</td>\n",
              "      <td>0</td>\n",
              "      <td>0</td>\n",
              "      <td>0</td>\n",
              "      <td>0</td>\n",
              "      <td>0</td>\n",
              "      <td>0</td>\n",
              "      <td>0</td>\n",
              "      <td>0</td>\n",
              "      <td>0</td>\n",
              "      <td>0</td>\n",
              "      <td>0</td>\n",
              "      <td>0</td>\n",
              "      <td>0</td>\n",
              "      <td>0</td>\n",
              "      <td>0</td>\n",
              "      <td>0</td>\n",
              "      <td>0</td>\n",
              "      <td>0</td>\n",
              "      <td>0</td>\n",
              "      <td>0</td>\n",
              "      <td>0</td>\n",
              "      <td>0</td>\n",
              "      <td>0</td>\n",
              "      <td>0</td>\n",
              "      <td>0</td>\n",
              "      <td>0</td>\n",
              "      <td>0</td>\n",
              "      <td>0</td>\n",
              "      <td>0</td>\n",
              "      <td>0</td>\n",
              "      <td>0</td>\n",
              "      <td>0</td>\n",
              "      <td>0</td>\n",
              "      <td>0</td>\n",
              "      <td>0</td>\n",
              "      <td>0</td>\n",
              "      <td>0</td>\n",
              "    </tr>\n",
              "  </tbody>\n",
              "</table>\n",
              "<p>5 rows × 1000 columns</p>\n",
              "</div>"
            ],
            "text/plain": [
              "   able  absolutely  ...  zzfauvimfk stayhome  zzfauvimfk stayhome read\n",
              "0     0           0  ...                    0                         0\n",
              "1     0           0  ...                    0                         0\n",
              "2     0           0  ...                    0                         0\n",
              "3     0           0  ...                    0                         0\n",
              "4     0           0  ...                    0                         0\n",
              "\n",
              "[5 rows x 1000 columns]"
            ]
          },
          "metadata": {
            "tags": []
          },
          "execution_count": 62
        }
      ]
    },
    {
      "cell_type": "code",
      "metadata": {
        "colab": {
          "base_uri": "https://localhost:8080/",
          "height": 278
        },
        "id": "K-zV3dqZFWqr",
        "outputId": "f6017d38-73b4-45d3-cf61-57141144da30"
      },
      "source": [
        "# TFIDF data\n",
        "df2 = create_df(text, TFIDF)\n",
        "\n",
        "# Print cleaned df\n",
        "df2.head(5)"
      ],
      "execution_count": 27,
      "outputs": [
        {
          "output_type": "stream",
          "text": [
            "/usr/local/lib/python3.6/dist-packages/sklearn/feature_extraction/text.py:385: UserWarning: Your stop_words may be inconsistent with your preprocessing. Tokenizing the stop words generated tokens ['ha', 'le', 'u', 'wa'] not in stop_words.\n",
            "  'stop_words.' % sorted(inconsistent))\n"
          ],
          "name": "stderr"
        },
        {
          "output_type": "execute_result",
          "data": {
            "text/html": [
              "<div>\n",
              "<style scoped>\n",
              "    .dataframe tbody tr th:only-of-type {\n",
              "        vertical-align: middle;\n",
              "    }\n",
              "\n",
              "    .dataframe tbody tr th {\n",
              "        vertical-align: top;\n",
              "    }\n",
              "\n",
              "    .dataframe thead th {\n",
              "        text-align: right;\n",
              "    }\n",
              "</style>\n",
              "<table border=\"1\" class=\"dataframe\">\n",
              "  <thead>\n",
              "    <tr style=\"text-align: right;\">\n",
              "      <th></th>\n",
              "      <th>able</th>\n",
              "      <th>absolutely</th>\n",
              "      <th>access</th>\n",
              "      <th>according</th>\n",
              "      <th>account</th>\n",
              "      <th>accused</th>\n",
              "      <th>act</th>\n",
              "      <th>action</th>\n",
              "      <th>actual</th>\n",
              "      <th>actually</th>\n",
              "      <th>add</th>\n",
              "      <th>added</th>\n",
              "      <th>advantage</th>\n",
              "      <th>advice</th>\n",
              "      <th>aeat</th>\n",
              "      <th>ago</th>\n",
              "      <th>agree</th>\n",
              "      <th>ah</th>\n",
              "      <th>ai</th>\n",
              "      <th>allow</th>\n",
              "      <th>allowed</th>\n",
              "      <th>amazing</th>\n",
              "      <th>amazon</th>\n",
              "      <th>america</th>\n",
              "      <th>american</th>\n",
              "      <th>amp</th>\n",
              "      <th>anita</th>\n",
              "      <th>app</th>\n",
              "      <th>apparently</th>\n",
              "      <th>apple</th>\n",
              "      <th>apps</th>\n",
              "      <th>arent</th>\n",
              "      <th>argument</th>\n",
              "      <th>art</th>\n",
              "      <th>article</th>\n",
              "      <th>artificialintelligence</th>\n",
              "      <th>asian</th>\n",
              "      <th>ask</th>\n",
              "      <th>asked</th>\n",
              "      <th>asking</th>\n",
              "      <th>...</th>\n",
              "      <th>woman</th>\n",
              "      <th>won</th>\n",
              "      <th>wonder</th>\n",
              "      <th>wont</th>\n",
              "      <th>word</th>\n",
              "      <th>work</th>\n",
              "      <th>worked</th>\n",
              "      <th>worker</th>\n",
              "      <th>working</th>\n",
              "      <th>world</th>\n",
              "      <th>worry</th>\n",
              "      <th>worse</th>\n",
              "      <th>worship</th>\n",
              "      <th>worst</th>\n",
              "      <th>worth</th>\n",
              "      <th>wouldn</th>\n",
              "      <th>wouldnt</th>\n",
              "      <th>wow</th>\n",
              "      <th>write</th>\n",
              "      <th>wrong</th>\n",
              "      <th>wtf</th>\n",
              "      <th>xbox</th>\n",
              "      <th>ya</th>\n",
              "      <th>yall</th>\n",
              "      <th>yay</th>\n",
              "      <th>yea</th>\n",
              "      <th>yeah</th>\n",
              "      <th>year</th>\n",
              "      <th>yelled</th>\n",
              "      <th>yep</th>\n",
              "      <th>yes</th>\n",
              "      <th>youd</th>\n",
              "      <th>youll</th>\n",
              "      <th>youre</th>\n",
              "      <th>youtube</th>\n",
              "      <th>yup</th>\n",
              "      <th>zero</th>\n",
              "      <th>zu</th>\n",
              "      <th>zy</th>\n",
              "      <th>zzfauvimfk</th>\n",
              "    </tr>\n",
              "  </thead>\n",
              "  <tbody>\n",
              "    <tr>\n",
              "      <th>0</th>\n",
              "      <td>0.0</td>\n",
              "      <td>0.0</td>\n",
              "      <td>0.0</td>\n",
              "      <td>0.0</td>\n",
              "      <td>0.0</td>\n",
              "      <td>0.0</td>\n",
              "      <td>0.0</td>\n",
              "      <td>0.0</td>\n",
              "      <td>0.0</td>\n",
              "      <td>0.0</td>\n",
              "      <td>0.0</td>\n",
              "      <td>0.0</td>\n",
              "      <td>0.0</td>\n",
              "      <td>0.0</td>\n",
              "      <td>0.0</td>\n",
              "      <td>0.0</td>\n",
              "      <td>0.0</td>\n",
              "      <td>0.0</td>\n",
              "      <td>0.0</td>\n",
              "      <td>0.0</td>\n",
              "      <td>0.0</td>\n",
              "      <td>0.0</td>\n",
              "      <td>0.0</td>\n",
              "      <td>0.0</td>\n",
              "      <td>0.0</td>\n",
              "      <td>0.297235</td>\n",
              "      <td>0.0</td>\n",
              "      <td>0.0</td>\n",
              "      <td>0.0</td>\n",
              "      <td>0.0</td>\n",
              "      <td>0.0</td>\n",
              "      <td>0.0</td>\n",
              "      <td>0.0</td>\n",
              "      <td>0.0</td>\n",
              "      <td>0.0</td>\n",
              "      <td>0.0</td>\n",
              "      <td>0.0</td>\n",
              "      <td>0.0</td>\n",
              "      <td>0.0</td>\n",
              "      <td>0.0</td>\n",
              "      <td>...</td>\n",
              "      <td>0.0</td>\n",
              "      <td>0.364247</td>\n",
              "      <td>0.0</td>\n",
              "      <td>0.0</td>\n",
              "      <td>0.0</td>\n",
              "      <td>0.0</td>\n",
              "      <td>0.0</td>\n",
              "      <td>0.0</td>\n",
              "      <td>0.0</td>\n",
              "      <td>0.0</td>\n",
              "      <td>0.0</td>\n",
              "      <td>0.0</td>\n",
              "      <td>0.0</td>\n",
              "      <td>0.0</td>\n",
              "      <td>0.0</td>\n",
              "      <td>0.0</td>\n",
              "      <td>0.0</td>\n",
              "      <td>0.0</td>\n",
              "      <td>0.0</td>\n",
              "      <td>0.0</td>\n",
              "      <td>0.0</td>\n",
              "      <td>0.0</td>\n",
              "      <td>0.0</td>\n",
              "      <td>0.0</td>\n",
              "      <td>0.0</td>\n",
              "      <td>0.0</td>\n",
              "      <td>0.0</td>\n",
              "      <td>0.0</td>\n",
              "      <td>0.0</td>\n",
              "      <td>0.0</td>\n",
              "      <td>0.0</td>\n",
              "      <td>0.0</td>\n",
              "      <td>0.0</td>\n",
              "      <td>0.0</td>\n",
              "      <td>0.0</td>\n",
              "      <td>0.0</td>\n",
              "      <td>0.0</td>\n",
              "      <td>0.0</td>\n",
              "      <td>0.0</td>\n",
              "      <td>0.0</td>\n",
              "    </tr>\n",
              "    <tr>\n",
              "      <th>1</th>\n",
              "      <td>0.0</td>\n",
              "      <td>0.0</td>\n",
              "      <td>0.0</td>\n",
              "      <td>0.0</td>\n",
              "      <td>0.0</td>\n",
              "      <td>0.0</td>\n",
              "      <td>0.0</td>\n",
              "      <td>0.0</td>\n",
              "      <td>0.0</td>\n",
              "      <td>0.0</td>\n",
              "      <td>0.0</td>\n",
              "      <td>0.0</td>\n",
              "      <td>0.0</td>\n",
              "      <td>0.0</td>\n",
              "      <td>0.0</td>\n",
              "      <td>0.0</td>\n",
              "      <td>0.0</td>\n",
              "      <td>0.0</td>\n",
              "      <td>0.0</td>\n",
              "      <td>0.0</td>\n",
              "      <td>0.0</td>\n",
              "      <td>0.0</td>\n",
              "      <td>0.0</td>\n",
              "      <td>0.0</td>\n",
              "      <td>0.0</td>\n",
              "      <td>0.000000</td>\n",
              "      <td>0.0</td>\n",
              "      <td>0.0</td>\n",
              "      <td>0.0</td>\n",
              "      <td>0.0</td>\n",
              "      <td>0.0</td>\n",
              "      <td>0.0</td>\n",
              "      <td>0.0</td>\n",
              "      <td>0.0</td>\n",
              "      <td>0.0</td>\n",
              "      <td>0.0</td>\n",
              "      <td>0.0</td>\n",
              "      <td>0.0</td>\n",
              "      <td>0.0</td>\n",
              "      <td>0.0</td>\n",
              "      <td>...</td>\n",
              "      <td>0.0</td>\n",
              "      <td>0.000000</td>\n",
              "      <td>0.0</td>\n",
              "      <td>0.0</td>\n",
              "      <td>0.0</td>\n",
              "      <td>0.0</td>\n",
              "      <td>0.0</td>\n",
              "      <td>0.0</td>\n",
              "      <td>0.0</td>\n",
              "      <td>0.0</td>\n",
              "      <td>0.0</td>\n",
              "      <td>0.0</td>\n",
              "      <td>0.0</td>\n",
              "      <td>0.0</td>\n",
              "      <td>0.0</td>\n",
              "      <td>0.0</td>\n",
              "      <td>0.0</td>\n",
              "      <td>0.0</td>\n",
              "      <td>0.0</td>\n",
              "      <td>0.0</td>\n",
              "      <td>0.0</td>\n",
              "      <td>0.0</td>\n",
              "      <td>0.0</td>\n",
              "      <td>0.0</td>\n",
              "      <td>0.0</td>\n",
              "      <td>0.0</td>\n",
              "      <td>0.0</td>\n",
              "      <td>0.0</td>\n",
              "      <td>0.0</td>\n",
              "      <td>0.0</td>\n",
              "      <td>0.0</td>\n",
              "      <td>0.0</td>\n",
              "      <td>0.0</td>\n",
              "      <td>0.0</td>\n",
              "      <td>0.0</td>\n",
              "      <td>0.0</td>\n",
              "      <td>0.0</td>\n",
              "      <td>0.0</td>\n",
              "      <td>0.0</td>\n",
              "      <td>0.0</td>\n",
              "    </tr>\n",
              "    <tr>\n",
              "      <th>2</th>\n",
              "      <td>0.0</td>\n",
              "      <td>0.0</td>\n",
              "      <td>0.0</td>\n",
              "      <td>0.0</td>\n",
              "      <td>0.0</td>\n",
              "      <td>0.0</td>\n",
              "      <td>0.0</td>\n",
              "      <td>0.0</td>\n",
              "      <td>0.0</td>\n",
              "      <td>0.0</td>\n",
              "      <td>0.0</td>\n",
              "      <td>0.0</td>\n",
              "      <td>0.0</td>\n",
              "      <td>0.0</td>\n",
              "      <td>0.0</td>\n",
              "      <td>0.0</td>\n",
              "      <td>0.0</td>\n",
              "      <td>0.0</td>\n",
              "      <td>0.0</td>\n",
              "      <td>0.0</td>\n",
              "      <td>0.0</td>\n",
              "      <td>0.0</td>\n",
              "      <td>0.0</td>\n",
              "      <td>0.0</td>\n",
              "      <td>0.0</td>\n",
              "      <td>0.000000</td>\n",
              "      <td>0.0</td>\n",
              "      <td>0.0</td>\n",
              "      <td>0.0</td>\n",
              "      <td>0.0</td>\n",
              "      <td>0.0</td>\n",
              "      <td>0.0</td>\n",
              "      <td>0.0</td>\n",
              "      <td>0.0</td>\n",
              "      <td>0.0</td>\n",
              "      <td>0.0</td>\n",
              "      <td>0.0</td>\n",
              "      <td>0.0</td>\n",
              "      <td>0.0</td>\n",
              "      <td>0.0</td>\n",
              "      <td>...</td>\n",
              "      <td>0.0</td>\n",
              "      <td>0.000000</td>\n",
              "      <td>0.0</td>\n",
              "      <td>0.0</td>\n",
              "      <td>0.0</td>\n",
              "      <td>0.0</td>\n",
              "      <td>0.0</td>\n",
              "      <td>0.0</td>\n",
              "      <td>0.0</td>\n",
              "      <td>0.0</td>\n",
              "      <td>0.0</td>\n",
              "      <td>0.0</td>\n",
              "      <td>0.0</td>\n",
              "      <td>0.0</td>\n",
              "      <td>0.0</td>\n",
              "      <td>0.0</td>\n",
              "      <td>0.0</td>\n",
              "      <td>0.0</td>\n",
              "      <td>0.0</td>\n",
              "      <td>0.0</td>\n",
              "      <td>0.0</td>\n",
              "      <td>0.0</td>\n",
              "      <td>0.0</td>\n",
              "      <td>0.0</td>\n",
              "      <td>0.0</td>\n",
              "      <td>0.0</td>\n",
              "      <td>0.0</td>\n",
              "      <td>0.0</td>\n",
              "      <td>0.0</td>\n",
              "      <td>0.0</td>\n",
              "      <td>0.0</td>\n",
              "      <td>0.0</td>\n",
              "      <td>0.0</td>\n",
              "      <td>0.0</td>\n",
              "      <td>0.0</td>\n",
              "      <td>0.0</td>\n",
              "      <td>0.0</td>\n",
              "      <td>0.0</td>\n",
              "      <td>0.0</td>\n",
              "      <td>0.0</td>\n",
              "    </tr>\n",
              "    <tr>\n",
              "      <th>3</th>\n",
              "      <td>0.0</td>\n",
              "      <td>0.0</td>\n",
              "      <td>0.0</td>\n",
              "      <td>0.0</td>\n",
              "      <td>0.0</td>\n",
              "      <td>0.0</td>\n",
              "      <td>0.0</td>\n",
              "      <td>0.0</td>\n",
              "      <td>0.0</td>\n",
              "      <td>0.0</td>\n",
              "      <td>0.0</td>\n",
              "      <td>0.0</td>\n",
              "      <td>0.0</td>\n",
              "      <td>0.0</td>\n",
              "      <td>0.0</td>\n",
              "      <td>0.0</td>\n",
              "      <td>0.0</td>\n",
              "      <td>0.0</td>\n",
              "      <td>0.0</td>\n",
              "      <td>0.0</td>\n",
              "      <td>0.0</td>\n",
              "      <td>0.0</td>\n",
              "      <td>0.0</td>\n",
              "      <td>0.0</td>\n",
              "      <td>0.0</td>\n",
              "      <td>0.000000</td>\n",
              "      <td>0.0</td>\n",
              "      <td>0.0</td>\n",
              "      <td>0.0</td>\n",
              "      <td>0.0</td>\n",
              "      <td>0.0</td>\n",
              "      <td>0.0</td>\n",
              "      <td>0.0</td>\n",
              "      <td>0.0</td>\n",
              "      <td>0.0</td>\n",
              "      <td>0.0</td>\n",
              "      <td>0.0</td>\n",
              "      <td>0.0</td>\n",
              "      <td>0.0</td>\n",
              "      <td>0.0</td>\n",
              "      <td>...</td>\n",
              "      <td>0.0</td>\n",
              "      <td>0.000000</td>\n",
              "      <td>0.0</td>\n",
              "      <td>0.0</td>\n",
              "      <td>0.0</td>\n",
              "      <td>0.0</td>\n",
              "      <td>0.0</td>\n",
              "      <td>0.0</td>\n",
              "      <td>0.0</td>\n",
              "      <td>0.0</td>\n",
              "      <td>0.0</td>\n",
              "      <td>0.0</td>\n",
              "      <td>0.0</td>\n",
              "      <td>0.0</td>\n",
              "      <td>0.0</td>\n",
              "      <td>0.0</td>\n",
              "      <td>0.0</td>\n",
              "      <td>0.0</td>\n",
              "      <td>0.0</td>\n",
              "      <td>0.0</td>\n",
              "      <td>0.0</td>\n",
              "      <td>0.0</td>\n",
              "      <td>0.0</td>\n",
              "      <td>0.0</td>\n",
              "      <td>0.0</td>\n",
              "      <td>0.0</td>\n",
              "      <td>0.0</td>\n",
              "      <td>0.0</td>\n",
              "      <td>0.0</td>\n",
              "      <td>0.0</td>\n",
              "      <td>0.0</td>\n",
              "      <td>0.0</td>\n",
              "      <td>0.0</td>\n",
              "      <td>0.0</td>\n",
              "      <td>0.0</td>\n",
              "      <td>0.0</td>\n",
              "      <td>0.0</td>\n",
              "      <td>0.0</td>\n",
              "      <td>0.0</td>\n",
              "      <td>0.0</td>\n",
              "    </tr>\n",
              "    <tr>\n",
              "      <th>4</th>\n",
              "      <td>0.0</td>\n",
              "      <td>0.0</td>\n",
              "      <td>0.0</td>\n",
              "      <td>0.0</td>\n",
              "      <td>0.0</td>\n",
              "      <td>0.0</td>\n",
              "      <td>0.0</td>\n",
              "      <td>0.0</td>\n",
              "      <td>0.0</td>\n",
              "      <td>0.0</td>\n",
              "      <td>0.0</td>\n",
              "      <td>0.0</td>\n",
              "      <td>0.0</td>\n",
              "      <td>0.0</td>\n",
              "      <td>0.0</td>\n",
              "      <td>0.0</td>\n",
              "      <td>0.0</td>\n",
              "      <td>0.0</td>\n",
              "      <td>0.0</td>\n",
              "      <td>0.0</td>\n",
              "      <td>0.0</td>\n",
              "      <td>0.0</td>\n",
              "      <td>0.0</td>\n",
              "      <td>0.0</td>\n",
              "      <td>0.0</td>\n",
              "      <td>0.000000</td>\n",
              "      <td>0.0</td>\n",
              "      <td>0.0</td>\n",
              "      <td>0.0</td>\n",
              "      <td>0.0</td>\n",
              "      <td>0.0</td>\n",
              "      <td>0.0</td>\n",
              "      <td>0.0</td>\n",
              "      <td>0.0</td>\n",
              "      <td>0.0</td>\n",
              "      <td>0.0</td>\n",
              "      <td>0.0</td>\n",
              "      <td>0.0</td>\n",
              "      <td>0.0</td>\n",
              "      <td>0.0</td>\n",
              "      <td>...</td>\n",
              "      <td>0.0</td>\n",
              "      <td>0.000000</td>\n",
              "      <td>0.0</td>\n",
              "      <td>0.0</td>\n",
              "      <td>0.0</td>\n",
              "      <td>0.0</td>\n",
              "      <td>0.0</td>\n",
              "      <td>0.0</td>\n",
              "      <td>0.0</td>\n",
              "      <td>0.0</td>\n",
              "      <td>0.0</td>\n",
              "      <td>0.0</td>\n",
              "      <td>0.0</td>\n",
              "      <td>0.0</td>\n",
              "      <td>0.0</td>\n",
              "      <td>0.0</td>\n",
              "      <td>0.0</td>\n",
              "      <td>0.0</td>\n",
              "      <td>0.0</td>\n",
              "      <td>0.0</td>\n",
              "      <td>0.0</td>\n",
              "      <td>0.0</td>\n",
              "      <td>0.0</td>\n",
              "      <td>0.0</td>\n",
              "      <td>0.0</td>\n",
              "      <td>0.0</td>\n",
              "      <td>0.0</td>\n",
              "      <td>0.0</td>\n",
              "      <td>0.0</td>\n",
              "      <td>0.0</td>\n",
              "      <td>0.0</td>\n",
              "      <td>0.0</td>\n",
              "      <td>0.0</td>\n",
              "      <td>0.0</td>\n",
              "      <td>0.0</td>\n",
              "      <td>0.0</td>\n",
              "      <td>0.0</td>\n",
              "      <td>0.0</td>\n",
              "      <td>0.0</td>\n",
              "      <td>0.0</td>\n",
              "    </tr>\n",
              "  </tbody>\n",
              "</table>\n",
              "<p>5 rows × 1000 columns</p>\n",
              "</div>"
            ],
            "text/plain": [
              "   able  absolutely  access  according  ...  zero   zu   zy  zzfauvimfk\n",
              "0   0.0         0.0     0.0        0.0  ...   0.0  0.0  0.0         0.0\n",
              "1   0.0         0.0     0.0        0.0  ...   0.0  0.0  0.0         0.0\n",
              "2   0.0         0.0     0.0        0.0  ...   0.0  0.0  0.0         0.0\n",
              "3   0.0         0.0     0.0        0.0  ...   0.0  0.0  0.0         0.0\n",
              "4   0.0         0.0     0.0        0.0  ...   0.0  0.0  0.0         0.0\n",
              "\n",
              "[5 rows x 1000 columns]"
            ]
          },
          "metadata": {
            "tags": []
          },
          "execution_count": 27
        }
      ]
    },
    {
      "cell_type": "markdown",
      "metadata": {
        "id": "vP9GW_C32oB2"
      },
      "source": [
        "# Training and Testing"
      ]
    },
    {
      "cell_type": "code",
      "metadata": {
        "id": "wsuovEdY2hR1"
      },
      "source": [
        "# Insert labels into data frame and get X, y values\n",
        "X_lower_3_news = df_lower_3_news.copy() \n",
        "df_lower_3_news['label'] = labels\n",
        "y_lower_3_news = df_lower_3_news['label']\n",
        "\n",
        "X_all_3_news = df_all_3_news.copy() \n",
        "df_all_3_news['label'] = labels\n",
        "y_all_3_news = df_all_3_news['label']\n",
        "\n",
        "X_all_1_news = df_all_1_news.copy() \n",
        "df_all_1_news['label'] = labels\n",
        "y_all_1_news = df_all_1_news['label']\n",
        "\n",
        "X_all_5_news = df_all_5_news.copy() \n",
        "df_all_5_news['label'] = labels\n",
        "y_all_5_news = df_all_5_news['label']\n",
        "\n",
        "X_all_3_nonews = df_all_3_nonews.copy() \n",
        "df_all_3_nonews['label'] = labels\n",
        "y_all_3_nonews = df_all_3_nonews['label']"
      ],
      "execution_count": 63,
      "outputs": []
    },
    {
      "cell_type": "code",
      "metadata": {
        "colab": {
          "base_uri": "https://localhost:8080/"
        },
        "id": "sQDRtK332keD",
        "outputId": "001ad387-6d96-4ee6-c066-e4ac8f82cc66"
      },
      "source": [
        "# Divide into training and testing\n",
        "X_train_lower_3_news, X_test_lower_3_news, y_train_lower_3_news, y_test_lower_3_news = train_test_split(X_lower_3_news, y_lower_3_news, test_size=0.3)\n",
        "X_train_all_3_news, X_test_all_3_news, y_train_all_3_news, y_test_all_3_news = train_test_split(X_all_3_news, y_all_3_news, test_size=0.3)\n",
        "X_train_all_1_news, X_test_all_1_news, y_train_all_1_news, y_test_all_1_news = train_test_split(X_all_1_news, y_all_1_news, test_size=0.3)\n",
        "X_train_all_5_news, X_test_all_5_news, y_train_all_5_news, y_test_all_5_news = train_test_split(X_all_5_news, y_all_5_news, test_size=0.3)\n",
        "X_train_all_3_nonews, X_test_all_3_nonews, y_train_all_3_nonews, y_test_all_3_nonews = train_test_split(X_all_3_nonews, y_all_3_nonews, test_size=0.3)\n",
        "\n",
        "# Print shape\n",
        "print(X_train_all_3_news.shape, X_test_all_3_news.shape, y_train_all_3_news.shape, y_test_all_3_news.shape)"
      ],
      "execution_count": 64,
      "outputs": [
        {
          "output_type": "stream",
          "text": [
            "(3500, 1000) (1500, 1000) (3500,) (1500,)\n"
          ],
          "name": "stdout"
        }
      ]
    },
    {
      "cell_type": "code",
      "metadata": {
        "id": "_OCkET5ZFWqs"
      },
      "source": [
        "# Insert labels into data frame and get X, y values for TFID data\n",
        "X2 = df2.copy() \n",
        "df2['label'] = labels\n",
        "y2 = df2['label']"
      ],
      "execution_count": 30,
      "outputs": []
    },
    {
      "cell_type": "code",
      "metadata": {
        "colab": {
          "base_uri": "https://localhost:8080/"
        },
        "id": "Tb4XKGhlFWqs",
        "outputId": "decbd63f-1149-4ec4-9a4f-a4c3c99a58ef"
      },
      "source": [
        "# Divide into training and testing\n",
        "X2_train, X2_test, y2_train, y2_test = train_test_split(X2, y2, test_size=0.3)\n",
        "print(X2_train.shape, X2_test.shape, y2_train.shape, y2_test.shape)"
      ],
      "execution_count": 31,
      "outputs": [
        {
          "output_type": "stream",
          "text": [
            "(2800, 1000) (1200, 1000) (2800,) (1200,)\n"
          ],
          "name": "stdout"
        }
      ]
    },
    {
      "cell_type": "markdown",
      "metadata": {
        "id": "ovg5QAA0xFDt"
      },
      "source": [
        "# Get Accuracy"
      ]
    },
    {
      "cell_type": "code",
      "metadata": {
        "id": "hf5fOsz52vYC"
      },
      "source": [
        "def get_accuracy(model, pred, test, X, y):\n",
        "    '''\n",
        "    Returns Confusion matrix and accuracy score for validity\n",
        "    '''\n",
        "    # Get accuracy score\n",
        "    score = accuracy_score(test, pred) \n",
        "    \n",
        "    # Get f1 statistic: F1 = 2 * (precision * recall) / (precision + recall)\n",
        "    f_score = f1_score(test, pred, average='weighted') \n",
        "    \n",
        "    # Create confusion matrix\n",
        "    cm = confusion_matrix(pred, test) \n",
        "\n",
        "    # Create heatmap using Seaborn\n",
        "    names = np.unique(pred)\n",
        "    sns.heatmap(cm, \n",
        "                square=True,\n",
        "                xticklabels=names, \n",
        "                yticklabels=names)\n",
        "    plt.xlabel('Actual')\n",
        "    plt.ylabel('Predicted')\n",
        "    \n",
        "    # Print Scores\n",
        "    print(\"Accuracy Score: \\n{}\\n\".format(score))\n",
        "    print(\"F1 Score: \\n{}\\n\".format(f_score))\n",
        "    print(\"Confusion Matrix: \\n{}\\n\".format(cm))"
      ],
      "execution_count": 65,
      "outputs": []
    },
    {
      "cell_type": "markdown",
      "metadata": {
        "id": "DWyfdSwb24pg"
      },
      "source": [
        "# Naive Bayes"
      ]
    },
    {
      "cell_type": "code",
      "metadata": {
        "id": "BUDo5UL320EF"
      },
      "source": [
        "# Initiate naive Bayes models\n",
        "nb_lower_3_news = MultinomialNB()\n",
        "nb_all_3_news = MultinomialNB()\n",
        "nb_all_1_news = MultinomialNB()\n",
        "nb_all_5_news = MultinomialNB()\n",
        "nb_all_3_nonews = MultinomialNB()\n",
        "\n",
        "# Train naive Bayes models\n",
        "nb_lower_3_news.fit(X_train_lower_3_news, y_train_lower_3_news)\n",
        "nb_all_3_news.fit(X_train_all_3_news, y_train_all_3_news)\n",
        "nb_all_1_news.fit(X_train_all_1_news, y_train_all_1_news)\n",
        "nb_all_5_news.fit(X_train_all_5_news, y_train_all_5_news)\n",
        "nb_all_3_nonews.fit(X_train_all_3_nonews, y_train_all_3_nonews)\n",
        "\n",
        "# Create prediction from\n",
        "pred_lower_3_news = nb_lower_3_news.predict(X_test_lower_3_news)\n",
        "pred_all_3_news = nb_all_3_news.predict(X_test_all_3_news)\n",
        "pred_all_1_news = nb_all_1_news.predict(X_test_all_1_news)\n",
        "pred_all_5_news = nb_all_5_news.predict(X_test_all_5_news)\n",
        "pred_all_3_nonews = nb_all_3_nonews.predict(X_test_all_3_nonews)\n"
      ],
      "execution_count": 66,
      "outputs": []
    },
    {
      "cell_type": "code",
      "metadata": {
        "colab": {
          "base_uri": "https://localhost:8080/",
          "height": 514
        },
        "id": "8_UQIsyc28qZ",
        "outputId": "851877d4-3a14-44ce-cca6-850083b96178"
      },
      "source": [
        "# Return Accuracy scores\n",
        "print(\"Naive Bayes Model\")\n",
        "print(\"(Lowercase | max ngrams = 3 | news dataset included)\")\n",
        "print(\"----------------------------------------------------\\n\")\n",
        "get_accuracy(nb_lower_3_news, \n",
        "             pred_lower_3_news, \n",
        "             y_test_lower_3_news, \n",
        "             X_lower_3_news, \n",
        "             y_lower_3_news)"
      ],
      "execution_count": 67,
      "outputs": [
        {
          "output_type": "stream",
          "text": [
            "Naive Bayes Model\n",
            "(Lowercase | max ngrams = 3 | news dataset included)\n",
            "----------------------------------------------------\n",
            "\n",
            "Accuracy Score: \n",
            "0.67\n",
            "\n",
            "F1 Score: \n",
            "0.6689651435118924\n",
            "\n",
            "Confusion Matrix: \n",
            "[[458 208]\n",
            " [287 547]]\n",
            "\n"
          ],
          "name": "stdout"
        },
        {
          "output_type": "display_data",
          "data": {
            "image/png": "[encoded data removed]",
            "text/plain": [
              "<Figure size 432x288 with 2 Axes>"
            ]
          },
          "metadata": {
            "tags": [],
            "needs_background": "light"
          }
        }
      ]
    },
    {
      "cell_type": "code",
      "metadata": {
        "colab": {
          "base_uri": "https://localhost:8080/",
          "height": 514
        },
        "id": "MvwLEhmDTqsR",
        "outputId": "962fdb2e-647d-49bc-fcd3-68ef3aa0be03"
      },
      "source": [
        "# Return Accuracy scores\n",
        "print(\"Naive Bayes Model\")\n",
        "print(\"(Max ngrams = 3 | news dataset included)\")\n",
        "print(\"---------------------------------------\\n\")\n",
        "get_accuracy(nb_all_3_news, \n",
        "             pred_all_3_news, \n",
        "             y_test_all_3_news, \n",
        "             X_all_3_news, \n",
        "             y_all_3_news)"
      ],
      "execution_count": 68,
      "outputs": [
        {
          "output_type": "stream",
          "text": [
            "Naive Bayes Model\n",
            "(Max ngrams = 3 | news dataset included)\n",
            "---------------------------------------\n",
            "\n",
            "Accuracy Score: \n",
            "0.678\n",
            "\n",
            "F1 Score: \n",
            "0.6745923228488606\n",
            "\n",
            "Confusion Matrix: \n",
            "[[437 159]\n",
            " [324 580]]\n",
            "\n"
          ],
          "name": "stdout"
        },
        {
          "output_type": "display_data",
          "data": {
            "image/png": "[encoded data removed]",
            "text/plain": [
              "<Figure size 432x288 with 2 Axes>"
            ]
          },
          "metadata": {
            "tags": [],
            "needs_background": "light"
          }
        }
      ]
    },
    {
      "cell_type": "code",
      "metadata": {
        "colab": {
          "base_uri": "https://localhost:8080/",
          "height": 514
        },
        "id": "-3R1O-35U9Pn",
        "outputId": "d344f507-78d8-4c30-d863-cd84fdb7f769"
      },
      "source": [
        "# Return Accuracy scores\n",
        "print(\"Naive Bayes Model\")\n",
        "print(\"(Max ngrams = 1 | news dataset included)\")\n",
        "print(\"---------------------------------------\\n\")\n",
        "get_accuracy(nb_all_1_news, \n",
        "             pred_all_1_news, \n",
        "             y_test_all_1_news, \n",
        "             X_all_1_news, \n",
        "             y_all_1_news)"
      ],
      "execution_count": 69,
      "outputs": [
        {
          "output_type": "stream",
          "text": [
            "Naive Bayes Model\n",
            "(Max ngrams = 1 | news dataset included)\n",
            "---------------------------------------\n",
            "\n",
            "Accuracy Score: \n",
            "0.6886666666666666\n",
            "\n",
            "F1 Score: \n",
            "0.6844564405438723\n",
            "\n",
            "Confusion Matrix: \n",
            "[[443 131]\n",
            " [336 590]]\n",
            "\n"
          ],
          "name": "stdout"
        },
        {
          "output_type": "display_data",
          "data": {
            "image/png": "[encoded data removed]",
            "text/plain": [
              "<Figure size 432x288 with 2 Axes>"
            ]
          },
          "metadata": {
            "tags": [],
            "needs_background": "light"
          }
        }
      ]
    },
    {
      "cell_type": "code",
      "metadata": {
        "colab": {
          "base_uri": "https://localhost:8080/",
          "height": 514
        },
        "id": "lMt9G5e6cxSp",
        "outputId": "9ef6a3ee-f594-4efb-cb12-f86a8b995746"
      },
      "source": [
        "# Return Accuracy scores\n",
        "print(\"Naive Bayes Model\")\n",
        "print(\"(Max ngrams = 5 | news dataset included)\")\n",
        "print(\"---------------------------------------\\n\")\n",
        "get_accuracy(nb_all_5_news, \n",
        "             pred_all_5_news, \n",
        "             y_test_all_5_news, \n",
        "             X_all_5_news, \n",
        "             y_all_5_news)"
      ],
      "execution_count": 70,
      "outputs": [
        {
          "output_type": "stream",
          "text": [
            "Naive Bayes Model\n",
            "(Max ngrams = 5 | news dataset included)\n",
            "---------------------------------------\n",
            "\n",
            "Accuracy Score: \n",
            "0.686\n",
            "\n",
            "F1 Score: \n",
            "0.6844910954297326\n",
            "\n",
            "Confusion Matrix: \n",
            "[[466 180]\n",
            " [291 563]]\n",
            "\n"
          ],
          "name": "stdout"
        },
        {
          "output_type": "display_data",
          "data": {
            "image/png": "[encoded data removed]",
            "text/plain": [
              "<Figure size 432x288 with 2 Axes>"
            ]
          },
          "metadata": {
            "tags": [],
            "needs_background": "light"
          }
        }
      ]
    },
    {
      "cell_type": "markdown",
      "metadata": {
        "id": "CSl3o0wM3A_p"
      },
      "source": [
        "# Support Vector Machines (Linear)"
      ]
    },
    {
      "cell_type": "code",
      "metadata": {
        "id": "9Z4PtL4T3GEM",
        "colab": {
          "base_uri": "https://localhost:8080/",
          "height": 229
        },
        "outputId": "c4eb8cf4-0163-4089-ba40-16a103d70502"
      },
      "source": [
        "# Create SVM model \n",
        "svm = SVC(kernel = 'linear', C=1)\n",
        "\n",
        "# Train SVM model for CV\n",
        "svm.fit(X_train, y_train)\n",
        "\n",
        "# Create prediction from SVM model\n",
        "svm_pred = svm.predict(X_test)"
      ],
      "execution_count": 71,
      "outputs": [
        {
          "output_type": "error",
          "ename": "NameError",
          "evalue": "ignored",
          "traceback": [
            "\u001b[0;31m---------------------------------------------------------------------------\u001b[0m",
            "\u001b[0;31mNameError\u001b[0m                                 Traceback (most recent call last)",
            "\u001b[0;32m<ipython-input-71-80434ebe1ea4>\u001b[0m in \u001b[0;36m<module>\u001b[0;34m()\u001b[0m\n\u001b[1;32m      3\u001b[0m \u001b[0;34m\u001b[0m\u001b[0m\n\u001b[1;32m      4\u001b[0m \u001b[0;31m# Train SVM model for CV\u001b[0m\u001b[0;34m\u001b[0m\u001b[0;34m\u001b[0m\u001b[0;34m\u001b[0m\u001b[0m\n\u001b[0;32m----> 5\u001b[0;31m \u001b[0msvm\u001b[0m\u001b[0;34m.\u001b[0m\u001b[0mfit\u001b[0m\u001b[0;34m(\u001b[0m\u001b[0mX_train\u001b[0m\u001b[0;34m,\u001b[0m \u001b[0my_train\u001b[0m\u001b[0;34m)\u001b[0m\u001b[0;34m\u001b[0m\u001b[0;34m\u001b[0m\u001b[0m\n\u001b[0m\u001b[1;32m      6\u001b[0m \u001b[0;34m\u001b[0m\u001b[0m\n\u001b[1;32m      7\u001b[0m \u001b[0;31m# Create prediction from SVM model\u001b[0m\u001b[0;34m\u001b[0m\u001b[0;34m\u001b[0m\u001b[0;34m\u001b[0m\u001b[0m\n",
            "\u001b[0;31mNameError\u001b[0m: name 'X_train' is not defined"
          ]
        }
      ]
    },
    {
      "cell_type": "code",
      "metadata": {
        "id": "I7Q2M9ArnJtN"
      },
      "source": [
        "# Initiate naive Support Vector Machines\n",
        "svm_lower_3_news = SVC(kernel = 'linear', C=1)\n",
        "svm_all_3_news = SVC(kernel = 'linear', C=1)\n",
        "svm_all_1_news = SVC(kernel = 'linear', C=1)\n",
        "svm_all_5_news = SVC(kernel = 'linear', C=1)\n",
        "svm_all_3_nonews = SVC(kernel = 'linear', C=1)\n",
        "\n",
        "# Train naive Bayes models\n",
        "svm_lower_3_news.fit(X_train_lower_3_news, y_train_lower_3_news)\n",
        "svm_all_3_news.fit(X_train_all_3_news, y_train_all_3_news)\n",
        "svm_all_1_news.fit(X_train_all_1_news, y_train_all_1_news)\n",
        "svm_all_5_news.fit(X_train_all_5_news, y_train_all_5_news)\n",
        "svm_all_3_nonews.fit(X_train_all_3_nonews, y_train_all_3_nonews)\n",
        "\n",
        "# Create prediction from\n",
        "pred_lower_3_news = svm_lower_3_news.predict(X_test_lower_3_news)\n",
        "pred_all_3_news = svm_all_3_news.predict(X_test_all_3_news)\n",
        "pred_all_1_news = svm_all_1_news.predict(X_test_all_1_news)\n",
        "pred_all_5_news = svm_all_5_news.predict(X_test_all_5_news)\n",
        "pred_all_3_nonews = svm_all_3_nonews.predict(X_test_all_3_nonews)"
      ],
      "execution_count": 39,
      "outputs": []
    },
    {
      "cell_type": "code",
      "metadata": {
        "colab": {
          "base_uri": "https://localhost:8080/",
          "height": 503
        },
        "id": "6Oyz_-JI3Jpc",
        "outputId": "64326b9b-29d5-4ef1-f03b-2e7cc7fb42b0"
      },
      "source": [
        "# Return Accuracy scores \n",
        "print(\"SVM Model\")\n",
        "print(\"---------\\n\")\n",
        "get_accuracy(svm_lower_3_news, pred_lower_3_news, y_test_lower_3_news, X_lower_3_news, y_lower_3_news)"
      ],
      "execution_count": null,
      "outputs": [
        {
          "output_type": "stream",
          "text": [
            "SVM Model\n",
            "---------\n",
            "\n",
            "Accuracy Score: \n",
            "0.7013333333333334\n",
            "\n",
            "F1 Score: \n",
            "0.698275444684739\n",
            "\n",
            "Confusion Matrix: \n",
            "[[602 299]\n",
            " [149 450]]\n",
            "\n"
          ],
          "name": "stdout"
        },
        {
          "output_type": "display_data",
          "data": {
            "image/png": "[encoded data removed]",
            "text/plain": [
              "<Figure size 432x288 with 2 Axes>"
            ]
          },
          "metadata": {
            "tags": [],
            "needs_background": "light"
          }
        }
      ]
    },
    {
      "cell_type": "code",
      "metadata": {
        "colab": {
          "base_uri": "https://localhost:8080/",
          "height": 500
        },
        "id": "Ce1UDKUhn8Ay",
        "outputId": "98f41630-a7e1-4683-8140-e78afe0812f3"
      },
      "source": [
        "# Return Accuracy scores \n",
        "print(\"SVM Model\")\n",
        "print(\"---------\\n\")\n",
        "get_accuracy(svm_all_3_news, pred_all_3_news, y_test_all_3_news, X_all_3_news, y_all_3_news)"
      ],
      "execution_count": null,
      "outputs": [
        {
          "output_type": "stream",
          "text": [
            "SVM Model\n",
            "---------\n",
            "\n",
            "Accuracy Score: \n",
            "0.6933333333333334\n",
            "\n",
            "F1 Score: \n",
            "0.6918000000000001\n",
            "\n",
            "Confusion Matrix: \n",
            "[[570 286]\n",
            " [174 470]]\n",
            "\n"
          ],
          "name": "stdout"
        },
        {
          "output_type": "display_data",
          "data": {
            "image/png": "[encoded data removed]",
            "text/plain": [
              "<Figure size 432x288 with 2 Axes>"
            ]
          },
          "metadata": {
            "tags": [],
            "needs_background": "light"
          }
        }
      ]
    },
    {
      "cell_type": "code",
      "metadata": {
        "colab": {
          "base_uri": "https://localhost:8080/",
          "height": 500
        },
        "id": "4bm7JJMVoM87",
        "outputId": "29701bc9-60b5-43e1-ffb0-2b7b88de171a"
      },
      "source": [
        "# Return Accuracy scores \n",
        "print(\"SVM Model\")\n",
        "print(\"---------\\n\")\n",
        "get_accuracy(svm_all_1_news, pred_all_1_news, y_test_all_1_news, X_all_1_news, y_all_1_news)"
      ],
      "execution_count": null,
      "outputs": [
        {
          "output_type": "stream",
          "text": [
            "SVM Model\n",
            "---------\n",
            "\n",
            "Accuracy Score: \n",
            "0.7073333333333334\n",
            "\n",
            "F1 Score: \n",
            "0.7062997327794726\n",
            "\n",
            "Confusion Matrix: \n",
            "[[576 263]\n",
            " [176 485]]\n",
            "\n"
          ],
          "name": "stdout"
        },
        {
          "output_type": "display_data",
          "data": {
            "image/png": "[encoded data removed]",
            "text/plain": [
              "<Figure size 432x288 with 2 Axes>"
            ]
          },
          "metadata": {
            "tags": [],
            "needs_background": "light"
          }
        }
      ]
    },
    {
      "cell_type": "code",
      "metadata": {
        "colab": {
          "base_uri": "https://localhost:8080/",
          "height": 500
        },
        "id": "f9z9PpCjoOL7",
        "outputId": "c0c20efa-7352-40c7-b556-5799ad1443b4"
      },
      "source": [
        "# Return Accuracy scores \n",
        "print(\"SVM Model\")\n",
        "print(\"---------\\n\")\n",
        "get_accuracy(svm_all_5_news, pred_all_5_news, y_test_all_5_news, X_all_5_news, y_all_5_news)"
      ],
      "execution_count": null,
      "outputs": [
        {
          "output_type": "stream",
          "text": [
            "SVM Model\n",
            "---------\n",
            "\n",
            "Accuracy Score: \n",
            "0.7006666666666667\n",
            "\n",
            "F1 Score: \n",
            "0.6999362021272191\n",
            "\n",
            "Confusion Matrix: \n",
            "[[557 268]\n",
            " [181 494]]\n",
            "\n"
          ],
          "name": "stdout"
        },
        {
          "output_type": "display_data",
          "data": {
            "image/png": "[encoded data removed]",
            "text/plain": [
              "<Figure size 432x288 with 2 Axes>"
            ]
          },
          "metadata": {
            "tags": [],
            "needs_background": "light"
          }
        }
      ]
    },
    {
      "cell_type": "code",
      "metadata": {
        "id": "Eu4T9VomoPGG"
      },
      "source": [
        "# Return Accuracy scores \n",
        "print(\"SVM Model\")\n",
        "print(\"---------\\n\")\n",
        "get_accuracy(svm_all_3_nonews, pred_all_3_nonews, y_test_all_3_nonews, X_all_3_nonews, y_all_3_nonews)"
      ],
      "execution_count": null,
      "outputs": []
    },
    {
      "cell_type": "markdown",
      "metadata": {
        "id": "cSmv7katFWqw"
      },
      "source": [
        "## cross validation scores for models including RandomForest, SVM, and NB (cv data)"
      ]
    },
    {
      "cell_type": "code",
      "metadata": {
        "id": "Pk8xDkmCFWqw",
        "outputId": "ba3a4986-1320-4aea-adaf-73cf0dde5fe9"
      },
      "source": [
        "score1 =cross_val_score(LogisticRegression(solver='liblinear',multi_class='ovr'),X, y,cv=5)\n",
        "np.average(score1)"
      ],
      "execution_count": null,
      "outputs": [
        {
          "output_type": "execute_result",
          "data": {
            "text/plain": [
              "0.6774"
            ]
          },
          "metadata": {
            "tags": []
          },
          "execution_count": 95
        }
      ]
    },
    {
      "cell_type": "code",
      "metadata": {
        "id": "LCjaBheZFWqw",
        "outputId": "86b470e1-2779-4077-b637-519a6656ec0e"
      },
      "source": [
        "# Support Vector Classification cross validation\n",
        "score2=cross_val_score(SVC(gamma='auto'), X, y,cv=5)\n",
        "np.average(score2)"
      ],
      "execution_count": null,
      "outputs": [
        {
          "output_type": "execute_result",
          "data": {
            "text/plain": [
              "0.6066"
            ]
          },
          "metadata": {
            "tags": []
          },
          "execution_count": 69
        }
      ]
    },
    {
      "cell_type": "code",
      "metadata": {
        "id": "KVOGkKizFWqx",
        "outputId": "d35affb9-10c1-494e-b024-9efaa49d8439"
      },
      "source": [
        "# Random Forest Classifier cross validation\n",
        "score3=cross_val_score(RandomForestClassifier(n_estimators=40),X, y,cv=5)\n",
        "np.average(score3)"
      ],
      "execution_count": null,
      "outputs": [
        {
          "output_type": "execute_result",
          "data": {
            "text/plain": [
              "0.6245999999999999"
            ]
          },
          "metadata": {
            "tags": []
          },
          "execution_count": 73
        }
      ]
    },
    {
      "cell_type": "code",
      "metadata": {
        "id": "-G9TwQQIFWqx",
        "outputId": "52f85685-9374-4910-910a-67165209fd42"
      },
      "source": [
        "# Naive Bayes - Multinomial cross validation\n",
        "score8=cross_val_score(MultinomialNB(),X, y,cv=5)\n",
        "np.average(score8)"
      ],
      "execution_count": null,
      "outputs": [
        {
          "output_type": "execute_result",
          "data": {
            "text/plain": [
              "0.6534000000000001"
            ]
          },
          "metadata": {
            "tags": []
          },
          "execution_count": 74
        }
      ]
    },
    {
      "cell_type": "markdown",
      "metadata": {
        "id": "ELisMuB7FWqx"
      },
      "source": [
        "## Cross validation scores including RandomForest, SVM, and NB (TFIDF)"
      ]
    },
    {
      "cell_type": "code",
      "metadata": {
        "id": "PAjTvSXJFWqx",
        "outputId": "c6e7de71-a0f2-4d0c-f8af-8ac5b0f910d0"
      },
      "source": [
        "#Tfid regression model\n",
        "score4 =cross_val_score(LogisticRegression(solver='liblinear',multi_class='ovr'),X2, y2,cv=5)\n",
        "np.average(score4)"
      ],
      "execution_count": null,
      "outputs": [
        {
          "output_type": "execute_result",
          "data": {
            "text/plain": [
              "0.648"
            ]
          },
          "metadata": {
            "tags": []
          },
          "execution_count": 91
        }
      ]
    },
    {
      "cell_type": "code",
      "metadata": {
        "id": "NHR9GcBPFWqy",
        "outputId": "590cffdc-ed87-4fa3-c60c-e6148996edc7"
      },
      "source": [
        "#Tfid SVM\n",
        "score5=cross_val_score(SVC(gamma='auto'), X2, y2,cv=5)\n",
        "np.average(score5)"
      ],
      "execution_count": null,
      "outputs": [
        {
          "output_type": "execute_result",
          "data": {
            "text/plain": [
              "0.5012000000000001"
            ]
          },
          "metadata": {
            "tags": []
          },
          "execution_count": 92
        }
      ]
    },
    {
      "cell_type": "code",
      "metadata": {
        "id": "5B6jD7EhFWqy",
        "outputId": "3d9ab85e-2581-404f-b224-d1021b7a47dc"
      },
      "source": [
        "# Tfid RandomForest\n",
        "score6=cross_val_score(RandomForestClassifier(n_estimators=40),X2, y2,cv=5)\n",
        "np.average(score6)"
      ],
      "execution_count": null,
      "outputs": [
        {
          "output_type": "execute_result",
          "data": {
            "text/plain": [
              "0.6228"
            ]
          },
          "metadata": {
            "tags": []
          },
          "execution_count": 93
        }
      ]
    },
    {
      "cell_type": "code",
      "metadata": {
        "id": "42237gMsFWqy",
        "outputId": "dc04486e-cdd9-4bb3-8393-2b8db72a7b63"
      },
      "source": [
        "# Tfid Naive Bayes\n",
        "score7=cross_val_score(MultinomialNB(),X2, y2,cv=5)\n",
        "np.average(score7)"
      ],
      "execution_count": null,
      "outputs": [
        {
          "output_type": "execute_result",
          "data": {
            "text/plain": [
              "0.6674"
            ]
          },
          "metadata": {
            "tags": []
          },
          "execution_count": 90
        }
      ]
    },
    {
      "cell_type": "code",
      "metadata": {
        "id": "XtRlHFc4FWqy"
      },
      "source": [
        "# Save model and accuracy information for plotting model scores\n",
        "model =['LogisticRegression_CV','SVM_CV', 'RandomForest_CV','NaiveBayes_CV','LogisticRegression_TF','SVM_TF', 'RandomForest_TF','NaiveBayes_TF']\n",
        "accuracy =[np.average(score1),np.average(score2),np.average(score3),np.average(score8),np.average(score4),np.average(score5),np.average(score6),np.average(score7)]"
      ],
      "execution_count": null,
      "outputs": []
    },
    {
      "cell_type": "code",
      "metadata": {
        "id": "d7vo2K8ZFWqy",
        "outputId": "aba4d6a6-4cba-45a7-989e-d548800ecb3d"
      },
      "source": [
        "# Plot scores\n",
        "my_colors = 'rgbkymc' \n",
        "plt.figure(figsize=(15,5))\n",
        "plt.bar(model, accuracy,color=my_colors)\n",
        "plt.xticks(rotation=40)\n",
        "plt.title(\"Model Accuracy Comparison\")\n",
        "plt.ylabel('Percent Accuracy')\n",
        "plt.xlabel('Models')\n",
        "\n"
      ],
      "execution_count": null,
      "outputs": [
        {
          "output_type": "stream",
          "text": [
            "C:\\Users\\Susan Rico\\Anaconda3\\lib\\site-packages\\ipykernel_launcher.py:4: MatplotlibDeprecationWarning: Using a string of single character colors as a color sequence is deprecated since 3.2 and will be removed two minor releases later. Use an explicit list instead.\n",
            "  after removing the cwd from sys.path.\n"
          ],
          "name": "stderr"
        },
        {
          "output_type": "execute_result",
          "data": {
            "text/plain": [
              "Text(0.5, 0, 'Models')"
            ]
          },
          "metadata": {
            "tags": []
          },
          "execution_count": 101
        },
        {
          "output_type": "display_data",
          "data": {
            "image/png": "[encoded data removed]",
            "text/plain": [
              "<Figure size 1080x360 with 1 Axes>"
            ]
          },
          "metadata": {
            "tags": [],
            "needs_background": "light"
          }
        }
      ]
    },
    {
      "cell_type": "markdown",
      "metadata": {
        "id": "8d2E5sVV7Cya"
      },
      "source": [
        "# Top Feature"
      ]
    },
    {
      "cell_type": "markdown",
      "metadata": {
        "id": "uNGQG15cFWqz"
      },
      "source": [
        "## Look at top features for Naive Bayes Model"
      ]
    },
    {
      "cell_type": "code",
      "metadata": {
        "id": "C1Umzo8ZFWqz"
      },
      "source": [
        "# Save our features\n",
        "features = np.array(cv_all_1_news.get_feature_names())"
      ],
      "execution_count": 72,
      "outputs": []
    },
    {
      "cell_type": "code",
      "metadata": {
        "id": "9XL6RRG7FWqz"
      },
      "source": [
        "#Look at top features for the NAIVE BAYES model\n",
        "non_sarcasm_coeffs = pd.DataFrame({'feature': features, 'coeff': nb_all_1_news .feature_log_prob_[0]})\n",
        "sarcasm_coeffs = pd.DataFrame({'feature': features, 'coeff': nb_all_1_news .feature_log_prob_[1]})"
      ],
      "execution_count": 73,
      "outputs": []
    },
    {
      "cell_type": "code",
      "metadata": {
        "id": "fGpWeCCwFWqz"
      },
      "source": [
        "# Look at top 50 features for both categories\n",
        "# (Log probability, so very high probability corresponds to negative values closer to zero)\n",
        "non_sarcasm_top = non_sarcasm_coeffs.sort_values('coeff').tail(50)\n",
        "sarcasm_top = sarcasm_coeffs.sort_values('coeff').tail(50)\n",
        "\n"
      ],
      "execution_count": 74,
      "outputs": []
    },
    {
      "cell_type": "code",
      "metadata": {
        "id": "eB0DXyicFWq0"
      },
      "source": [
        "# Get top unique features by taking the symmetric difference \n",
        "top_unique = list(set(non_sarcasm_top['feature']).symmetric_difference(set(sarcasm_top['feature'])))\n",
        "\n"
      ],
      "execution_count": 75,
      "outputs": []
    },
    {
      "cell_type": "code",
      "metadata": {
        "id": "dIRgflV6FWq0"
      },
      "source": [
        "# Get the key features for each candidate by finding the top ones in the unique list\n",
        "non_sarcasm_key_features = non_sarcasm_top[non_sarcasm_top.apply(lambda x: x['feature'] in top_unique, axis=1)].head(30)\n",
        "non_sarcasm_key_features.reset_index(drop=True, inplace=True)\n",
        "\n",
        "sarcasm_key_features = sarcasm_top[sarcasm_top.apply(lambda x: x['feature'] in top_unique, axis=1)].head(30)\n",
        "sarcasm_key_features.reset_index(drop=True, inplace=True)\n",
        "\n",
        "\n"
      ],
      "execution_count": 76,
      "outputs": []
    },
    {
      "cell_type": "code",
      "metadata": {
        "id": "Ooc9ir8TFWq0",
        "colab": {
          "base_uri": "https://localhost:8080/",
          "height": 621
        },
        "outputId": "98740779-8dbf-4a02-ce3f-1a974887309c"
      },
      "source": [
        "# Show these top features for each category along with their log probabilities\n",
        "fig, axs = plt.subplots(nrows=1, ncols=2, figsize=[20,10])\n",
        "axs[0].barh(sarcasm_key_features['feature'], width=sarcasm_key_features['coeff'], height=1, color='red')\n",
        "axs[0].set_title('Key Features for Sarcasm')\n",
        "axs[0].set_xlabel('Feature Log Probability')\n",
        "axs[1].barh(non_sarcasm_key_features['feature'], width=non_sarcasm_key_features['coeff'], height=1, color='blue')\n",
        "axs[1].set_title('Key Features for Non-Sarcasm')\n",
        "axs[1].set_xlabel('Feature Log Probability')\n",
        "plt.show()\n"
      ],
      "execution_count": 77,
      "outputs": [
        {
          "output_type": "display_data",
          "data": {
            "image/png": "[encoded data removed]",
            "text/plain": [
              "<Figure size 1440x720 with 2 Axes>"
            ]
          },
          "metadata": {
            "tags": [],
            "needs_background": "light"
          }
        }
      ]
    },
    {
      "cell_type": "markdown",
      "metadata": {
        "id": "6Ge1VAkoFWq0"
      },
      "source": [
        "## Top Feature for SVM Model"
      ]
    },
    {
      "cell_type": "code",
      "metadata": {
        "id": "V9C3AxbBFWq0",
        "colab": {
          "base_uri": "https://localhost:8080/",
          "height": 229
        },
        "outputId": "5ce9af36-616d-4010-a81c-42f3680994c6"
      },
      "source": [
        "def plot_coefficients(MODEL=svm_all_1_news, COLNAMES=X_train.columns, top_features=10):\n",
        "    ## Model if SVM MUST be SVC, RE: SVM_Model=LinearSVC(C=10)\n",
        "    coef = svm_all_1_news.coef_.ravel()\n",
        "    top_positive_coefficients = np.argsort(coef,axis=0)[-top_features:]\n",
        "    print(top_positive_coefficients)\n",
        "    top_negative_coefficients = np.argsort(coef,axis=0)[:top_features]\n",
        "    print(top_negative_coefficients)\n",
        "    top_coefficients = np.hstack([top_negative_coefficients, top_positive_coefficients])\n",
        "    # create plot\n",
        "    plt.figure(figsize=(15, 5))\n",
        "    colors = [\"red\" if c < 0 else \"blue\" for c in coef[top_coefficients]]\n",
        "    plt.bar(  x=  np.arange(2 * top_features)  , height=coef[top_coefficients], width=.5,  color=colors)\n",
        "    feature_names = np.array(COLNAMES)\n",
        "    plt.xticks(np.arange(0, (2*top_features)), feature_names[top_coefficients], rotation=60, ha=\"right\")\n",
        "    plt.show()\n",
        "    \n",
        "\n",
        "plot_coefficients()"
      ],
      "execution_count": 78,
      "outputs": [
        {
          "output_type": "error",
          "ename": "NameError",
          "evalue": "ignored",
          "traceback": [
            "\u001b[0;31m---------------------------------------------------------------------------\u001b[0m",
            "\u001b[0;31mNameError\u001b[0m                                 Traceback (most recent call last)",
            "\u001b[0;32m<ipython-input-78-13a8b8ca8c4f>\u001b[0m in \u001b[0;36m<module>\u001b[0;34m()\u001b[0m\n\u001b[0;32m----> 1\u001b[0;31m \u001b[0;32mdef\u001b[0m \u001b[0mplot_coefficients\u001b[0m\u001b[0;34m(\u001b[0m\u001b[0mMODEL\u001b[0m\u001b[0;34m=\u001b[0m\u001b[0msvm_all_1_news\u001b[0m\u001b[0;34m,\u001b[0m \u001b[0mCOLNAMES\u001b[0m\u001b[0;34m=\u001b[0m\u001b[0mX_train\u001b[0m\u001b[0;34m.\u001b[0m\u001b[0mcolumns\u001b[0m\u001b[0;34m,\u001b[0m \u001b[0mtop_features\u001b[0m\u001b[0;34m=\u001b[0m\u001b[0;36m10\u001b[0m\u001b[0;34m)\u001b[0m\u001b[0;34m:\u001b[0m\u001b[0;34m\u001b[0m\u001b[0;34m\u001b[0m\u001b[0m\n\u001b[0m\u001b[1;32m      2\u001b[0m     \u001b[0;31m## Model if SVM MUST be SVC, RE: SVM_Model=LinearSVC(C=10)\u001b[0m\u001b[0;34m\u001b[0m\u001b[0;34m\u001b[0m\u001b[0;34m\u001b[0m\u001b[0m\n\u001b[1;32m      3\u001b[0m     \u001b[0mcoef\u001b[0m \u001b[0;34m=\u001b[0m \u001b[0msvm_all_1_news\u001b[0m\u001b[0;34m.\u001b[0m\u001b[0mcoef_\u001b[0m\u001b[0;34m.\u001b[0m\u001b[0mravel\u001b[0m\u001b[0;34m(\u001b[0m\u001b[0;34m)\u001b[0m\u001b[0;34m\u001b[0m\u001b[0;34m\u001b[0m\u001b[0m\n\u001b[1;32m      4\u001b[0m     \u001b[0mtop_positive_coefficients\u001b[0m \u001b[0;34m=\u001b[0m \u001b[0mnp\u001b[0m\u001b[0;34m.\u001b[0m\u001b[0margsort\u001b[0m\u001b[0;34m(\u001b[0m\u001b[0mcoef\u001b[0m\u001b[0;34m,\u001b[0m\u001b[0maxis\u001b[0m\u001b[0;34m=\u001b[0m\u001b[0;36m0\u001b[0m\u001b[0;34m)\u001b[0m\u001b[0;34m[\u001b[0m\u001b[0;34m-\u001b[0m\u001b[0mtop_features\u001b[0m\u001b[0;34m:\u001b[0m\u001b[0;34m]\u001b[0m\u001b[0;34m\u001b[0m\u001b[0;34m\u001b[0m\u001b[0m\n\u001b[1;32m      5\u001b[0m     \u001b[0mprint\u001b[0m\u001b[0;34m(\u001b[0m\u001b[0mtop_positive_coefficients\u001b[0m\u001b[0;34m)\u001b[0m\u001b[0;34m\u001b[0m\u001b[0;34m\u001b[0m\u001b[0m\n",
            "\u001b[0;31mNameError\u001b[0m: name 'X_train' is not defined"
          ]
        }
      ]
    },
    {
      "cell_type": "code",
      "metadata": {
        "id": "rnDeA5kAFWq1"
      },
      "source": [
        ""
      ],
      "execution_count": null,
      "outputs": []
    }
  ]
}